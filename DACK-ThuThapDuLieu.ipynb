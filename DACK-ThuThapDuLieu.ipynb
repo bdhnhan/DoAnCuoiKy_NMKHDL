{
 "cells": [
  {
   "cell_type": "markdown",
   "metadata": {},
   "source": [
    "# ĐỒ ÁN CUỐI KỲ - NHẬP MÔN KHOA HỌC DỮ LIỆU\n",
    "STT nhóm: 17\n",
    "\n",
    "Thành viên:\n",
    "- 18120066 - Bùi Đoàn Hữu Nhân\n",
    "- 18120097 - Đinh Hữu Phúc Trung\n",
    "\n",
    "##  Đề tài: Dự đoán giá xe ô tô"
   ]
  },
  {
   "cell_type": "markdown",
   "metadata": {},
   "source": [
    "---"
   ]
  },
  {
   "cell_type": "markdown",
   "metadata": {},
   "source": [
    "# I - Thu thập dữ liệu\n",
    "&#9889; **Lưu ý:**\n",
    "\n",
    "Để có thể chạy file notebook này ta cần phải:\n",
    "- Install thư viện Selenium.\n",
    "- Tải file thực thi thích hợp cho từng máy va từng phiên bản của trình duyệt mà ta sử dụng. \n",
    "    - Nếu máy dùng trình duyệt Google Chrome: bạn cần download driver [tại đây](https://chromedriver.chromium.org/downloads)\n",
    "    - Nếu máy dùng trình duyệt Microsoft Edge (Chromium): bạn cần download driver [tại đây](https://developer.microsoft.com/en-us/microsoft-edge/tools/webdriver/)\n",
    "    \n",
    "Trong đồ án, chúng em sử dụng trình duyệt Microsoft Edge (Chromium) nên đã tải sẵn file thực thi và lưu vào chung thư mục với file notebook này.\n",
    "\n",
    "Dưới đây là code thu thập dữ liệu với số lượng ít (dùng để kiểm tra và chạy thử), còn việc thu thập dữ liệu để sử dụng cho bài làm có số lượng lớn hơn rất nhiều đã được thực hiện trước vì việc thu thập tốn khá nhiều thời gian (run time lớn)."
   ]
  },
  {
   "cell_type": "markdown",
   "metadata": {},
   "source": [
    "---"
   ]
  },
  {
   "cell_type": "markdown",
   "metadata": {},
   "source": [
    "## Import"
   ]
  },
  {
   "cell_type": "code",
   "execution_count": 5,
   "metadata": {},
   "outputs": [],
   "source": [
    "import requests\n",
    "import urllib.robotparser\n",
    "import numpy as np\n",
    "import pandas as pd\n",
    "import re\n",
    "import time\n",
    "import datetime\n",
    "\n",
    "from bs4 import BeautifulSoup,SoupStrainer\n",
    "from selenium import webdriver"
   ]
  },
  {
   "cell_type": "markdown",
   "metadata": {},
   "source": [
    "---"
   ]
  },
  {
   "cell_type": "markdown",
   "metadata": {},
   "source": [
    "## Kiểm tra trước khi crawl dữ liệu"
   ]
  },
  {
   "cell_type": "code",
   "execution_count": 6,
   "metadata": {},
   "outputs": [
    {
     "data": {
      "text/plain": [
       "True"
      ]
     },
     "execution_count": 6,
     "metadata": {},
     "output_type": "execute_result"
    }
   ],
   "source": [
    "rp = urllib.robotparser.RobotFileParser()\n",
    "rp.set_url('https://www.cars-data.com/robots.txt')\n",
    "rp.read()\n",
    "rp.can_fetch('*', 'https://www.cars-data.com/en/all-cars/page1.html')"
   ]
  },
  {
   "cell_type": "code",
   "execution_count": 7,
   "metadata": {},
   "outputs": [
    {
     "data": {
      "text/plain": [
       "True"
      ]
     },
     "execution_count": 7,
     "metadata": {},
     "output_type": "execute_result"
    }
   ],
   "source": [
    "rp.can_fetch('*', 'https://www.cars-data.com/en/abarth-500-1-4-16v-t-jet-specs/1/tech')"
   ]
  },
  {
   "cell_type": "markdown",
   "metadata": {},
   "source": [
    "---"
   ]
  },
  {
   "cell_type": "markdown",
   "metadata": {},
   "source": [
    "## Bắt đầu crawl dữ liệu\n",
    "\n",
    "Đây là trang web sử dụng javascript, nên ta không thể dùng phương pháp parser của request được. Ta cần sử dụng một thư viện khác để có thể thu thập dữ liệu của trang web là Selenium."
   ]
  },
  {
   "cell_type": "markdown",
   "metadata": {},
   "source": [
    "### Mở trình duyệt mà ta cần để lấy dữ liệu trang web\n",
    "\n",
    "Với mỗi trình duyệt khác nhau thì câu lệnh cũng khác nhau. Ở đây, ta đang sử dụng trình duyệt Edge nên câu lệnh được thực hiện như sau.\n",
    "\n",
    "(`executable_path` là đường dẫn đến file thực thi)"
   ]
  },
  {
   "cell_type": "code",
   "execution_count": 8,
   "metadata": {},
   "outputs": [],
   "source": [
    "browser = webdriver.Edge(executable_path='msedgedriver.exe')"
   ]
  },
  {
   "cell_type": "markdown",
   "metadata": {},
   "source": [
    "### Thu thập link chứa thông tin của mỗi xe\n",
    "\n",
    "- Nếu link nhận được là link của một chiếc xe cụ thể (không có option) thì được thêm trực tiếp vào danh sách info_cars (ta có thể nhận thấy, thông tin chi tiết của xe sẽ là đường dẫn của xe có đi đến \"/tech\")\n",
    "- Nếu link nhận được là link của một chiếc xe có các option khác, thì link này sẽ được gán vào danh sách links để bước sau ta sẽ xử lí trường hợp này.\n",
    "\n",
    "*Thay đổi `num_pages` để thay đổi số lượng trang mà ta cần thu thập, và các page được lấy theo thứ tự giảm dần nhằm mục đích lấy được nhiều xe có năm ra mắt là mới nhất.*"
   ]
  },
  {
   "cell_type": "code",
   "execution_count": 9,
   "metadata": {},
   "outputs": [],
   "source": [
    "keyword = 97   # 97 là số trang tối đa\n",
    "numPage = 1   # numPage là số lượng trang ta muốn lấy dữ liệu\n",
    "links = list()\n",
    "info_cars = list()\n",
    "while (keyword - (97 - numPage) > 0):\n",
    "    browser.get(f'https://www.cars-data.com/en/all-cars/page{keyword}.html')\n",
    "    html_text = browser.page_source\n",
    "\n",
    "    tree = BeautifulSoup(html_text, 'lxml')\n",
    "    cars_box = tree.find_all('div',{'class':'col-4'})\n",
    "    for car in cars_box[0:-3]:\n",
    "        link = car.find('a')['href']\n",
    "        if (link.find('specs') == -1):\n",
    "            links.append(link)\n",
    "        else:\n",
    "            info_cars.append(link + '/tech')\n",
    "    keyword-=1"
   ]
  },
  {
   "cell_type": "markdown",
   "metadata": {},
   "source": [
    "Tiếp theo ta sẽ lấy luôn các option của từng xe mà có trong danh sách  `links ` (thông tin chi tiết của xe sẽ là đường dẫn của xe có đi đến \"/tech\")."
   ]
  },
  {
   "cell_type": "code",
   "execution_count": 10,
   "metadata": {},
   "outputs": [],
   "source": [
    "for link in links:\n",
    "    browser.get(link)\n",
    "    html_text = browser.page_source\n",
    "\n",
    "    tree = BeautifulSoup(html_text, 'lxml')\n",
    "    options = tree.find_all('div',{'class':'col-6'})\n",
    "    for option in options:\n",
    "        info = option.find('a')['href'] + '/tech'\n",
    "        info_cars.append(info)"
   ]
  },
  {
   "cell_type": "markdown",
   "metadata": {},
   "source": [
    "Như vậy ta đã thu thập đủ link chứa thông tin của các xe."
   ]
  },
  {
   "cell_type": "code",
   "execution_count": 11,
   "metadata": {},
   "outputs": [
    {
     "data": {
      "text/plain": [
       "29"
      ]
     },
     "execution_count": 11,
     "metadata": {},
     "output_type": "execute_result"
    }
   ],
   "source": [
    "len(info_cars)"
   ]
  },
  {
   "cell_type": "markdown",
   "metadata": {},
   "source": [
    "### Xử lý và lấy thông tin chi tiết của mỗi xe\n",
    "- Do thông tin của xe (không lấy xe điện) nằm trong một bảng cố định. Ở bước sau, khi ta thấy thông tin đó thì trong danh sách nhận được, các dòng chẵn sẽ là các đề mục, và dòng lẻ (+1) sẽ là các giá trị của đề mục đó. Do không phải ta sẽ lấy hết tất cả các thông số của xe mà ta chỉ lấy những thông tin có thể cần thiết cho việc huấn luyện sau này, nên ta cần phải biết được những vị trí cần lấy trong danh sách thông tin đó. Từ đó là sẽ có được các index cho dictionary  `label `. Các giá trị của index chính là các tên cột của dataframe sau này.\n",
    "- Vì vậy ta sẽ dùng dictionary để có thể tận dụng được index cho việc lấy thông tin và giá trị cho việc tạo tên cột dataframe.\n",
    "- Tạo dataframe, ta sẽ thêm hai cột đó là Name (tên xe. VD: Toyota Camry,...), là Brand (thương hiệu xe. VD: Toyota,...)"
   ]
  },
  {
   "cell_type": "code",
   "execution_count": 12,
   "metadata": {},
   "outputs": [],
   "source": [
    "label = {0:'Price',6:'Body',8:'Transmission',10:'Number Of Seats',12:'Segment',14:'Introduction',18:'Drive',20:'Drive System',22:'Fuel',34:'Valves Per Cylinder',34:'Cylinder Capacity',46:'Max Power Hp',50:'Max Torque',54:'Fuel System',56:'Valve Actuation',58:'Turbo',62:'Fuel Tank',64:'Top Speed',78:'Energy Label',108:'Front Stabilizer',110:'Rear Stabilizer'}"
   ]
  },
  {
   "cell_type": "code",
   "execution_count": 33,
   "metadata": {},
   "outputs": [],
   "source": [
    "df = pd.DataFrame(columns=['Name','Brand']+list(label.values()))"
   ]
  },
  {
   "cell_type": "markdown",
   "metadata": {},
   "source": [
    "- Ở bước này, ta cần tách Brand và Name từ đường link của xe, đồng thời sẽ lấy thông tin chi tiết của mỗi xe theo cách đã trình bày ở trên.\n",
    "- Ta dùng Try Except ở bước này nhằm bắt được các lỗi sai trong quá trình lấy thông tin của xe (thông tin của xe điện ít hơn xe khác,...)\n",
    "\n",
    "*Sau khi thực hiện xong bước này, ta đã có được dataframe dùng để huấn luyện*"
   ]
  },
  {
   "cell_type": "code",
   "execution_count": 34,
   "metadata": {},
   "outputs": [],
   "source": [
    "i=0\n",
    "for info in info_cars:\n",
    "    browser.get(info)\n",
    "    html_text = browser.page_source\n",
    "    tree = BeautifulSoup(html_text,'lxml',parse_only=SoupStrainer('td'))\n",
    "    info_detail = tree.find_all('td',attrs={'class': re.compile(r\"^col-6$\")})\n",
    "    if (len(info_detail) == 146):\n",
    "        list_tmp = list()\n",
    "        i+=1\n",
    "        try:\n",
    "            name_car = info[29:]\n",
    "            name_car = name_car[:name_car.find('-specs')].replace('-',' ').upper()\n",
    "            brand = name_car[:name_car.find(' ')]\n",
    "            list_tmp.append(name_car)\n",
    "            list_tmp.append(brand)\n",
    "            for j in label:\n",
    "                list_tmp.append(info_detail[j+1].text)\n",
    "            df.loc[i] = list_tmp\n",
    "        except:\n",
    "            i-=1"
   ]
  },
  {
   "cell_type": "markdown",
   "metadata": {},
   "source": [
    "Hoàn thành việc thu thập dữ liệu."
   ]
  },
  {
   "cell_type": "code",
   "execution_count": 16,
   "metadata": {},
   "outputs": [
    {
     "data": {
      "text/plain": [
       "Name                 object\n",
       "Brand                object\n",
       "Price                object\n",
       "Body                 object\n",
       "Transmission         object\n",
       "Number Of Seats      object\n",
       "Segment              object\n",
       "Introduction         object\n",
       "Drive                object\n",
       "Drive System         object\n",
       "Fuel                 object\n",
       "Cylinder Capacity    object\n",
       "Max Power Hp         object\n",
       "Max Torque           object\n",
       "Fuel System          object\n",
       "Valve Actuation      object\n",
       "Turbo                object\n",
       "Fuel Tank            object\n",
       "Top Speed            object\n",
       "Energy Label         object\n",
       "Front Stabilizer     object\n",
       "Rear Stabilizer      object\n",
       "dtype: object"
      ]
     },
     "execution_count": 16,
     "metadata": {},
     "output_type": "execute_result"
    }
   ],
   "source": [
    "df.dtypes"
   ]
  },
  {
   "cell_type": "markdown",
   "metadata": {},
   "source": [
    "Số dòng dữ liệu ở đây ít hơn số link thu thập được do có một số xe ôtô chạy bằng điện và ta bỏ qua loại xe này vì cấu tạo của nó khác so với những xe khác."
   ]
  },
  {
   "cell_type": "markdown",
   "metadata": {},
   "source": [
    "---"
   ]
  },
  {
   "cell_type": "markdown",
   "metadata": {},
   "source": [
    "## Xử lý dữ liệu thô\n",
    "Dữ liệu thu thập về đang còn ở mức rất thô, ta sẽ tiến hành xử lý từng cột để định dạng lại dữ liệu này trước khi thực hiện Tiền xử lý và Mô hình hóa dữ liệu."
   ]
  },
  {
   "cell_type": "code",
   "execution_count": null,
   "metadata": {},
   "outputs": [],
   "source": [
    "df = pd.read_csv('data_root.csv',index_col = 0)"
   ]
  },
  {
   "cell_type": "code",
   "execution_count": 140,
   "metadata": {},
   "outputs": [],
   "source": [
    "# Xử lí cột \"Price\" - thực hiện tách đơn vị và chuyển kiểu dữ liệu thành dạng số\n",
    "df['Price'] = pd.to_numeric(df['Price'].str.extract(r'([\\d.]+)', expand = False), errors='coerce')*1000"
   ]
  },
  {
   "cell_type": "code",
   "execution_count": 141,
   "metadata": {},
   "outputs": [],
   "source": [
    "# Xử lí cột \"Body\" - cột này chứa 2 thông tin là số cửa và loại body\n",
    "# Ta thực hiện tách ra thành hai cột: Num_door và Body\n",
    "Num_doors = list()\n",
    "Body = list()\n",
    "for i in df['Body']:\n",
    "    lc = i.find(',')\n",
    "    Num_doors.append(i[:lc-6])\n",
    "    Body.append(i[lc+1:])\n",
    "df['Body'] = Body\n",
    "df['Num_doors'] = pd.to_numeric(pd.Series(Num_doors), errors='coerce')"
   ]
  },
  {
   "cell_type": "code",
   "execution_count": 142,
   "metadata": {},
   "outputs": [],
   "source": [
    "# Xử lí cột \"Transmission\" - chứa số cấp bậc của hộp số và loại hộp số\n",
    "# Tách ra làm 2 cột là Transmission và Dt_Transmission\n",
    "Transmission = list()\n",
    "Dt_Transmission = list()\n",
    "for i in df['Transmission']:\n",
    "    lc = i.find('speed')\n",
    "    Transmission.append(i[:lc-1])\n",
    "    Dt_Transmission.append(i[lc+6:])\n",
    "df['Dt_Transmission'] = Dt_Transmission\n",
    "df['Transmission'] = pd.to_numeric(pd.Series(Transmission), errors='coerce')"
   ]
  },
  {
   "cell_type": "code",
   "execution_count": 143,
   "metadata": {},
   "outputs": [],
   "source": [
    "# Chuyển dữ liệu \"Number Of Seats\" về dạng số nếu có dạng a-b thì lấy b\n",
    "df['Number Of Seats'] = pd.to_numeric([x if x.find('-')==-1 else x[x.find('-')+1:] for x in df['Number Of Seats']],\n",
    "                                      errors='coerce')"
   ]
  },
  {
   "cell_type": "code",
   "execution_count": 144,
   "metadata": {},
   "outputs": [],
   "source": [
    "# Ở cột \"Segment\" tách lấy ký tự ký hiệu cho loại kích cỡ xe\n",
    "df['Segment'] = df['Segment'].str.extract(r'(\\w)', expand = False)"
   ]
  },
  {
   "cell_type": "code",
   "execution_count": 145,
   "metadata": {},
   "outputs": [],
   "source": [
    "# Tách lấy năm trong \"Introduction\"\n",
    "df['Introduction'] = pd.to_numeric(df['Introduction'].str.extract(r'(\\d+)', expand = False), errors='coerce')"
   ]
  },
  {
   "cell_type": "code",
   "execution_count": 146,
   "metadata": {},
   "outputs": [],
   "source": [
    "# Chuyển cột \"Cylinder Capacity\" về kiểu dữ liệu số \n",
    "df['Cylinder Capacity'] = pd.to_numeric(df['Cylinder Capacity'], errors='coerce')"
   ]
  },
  {
   "cell_type": "code",
   "execution_count": 147,
   "metadata": {},
   "outputs": [],
   "source": [
    "# Chuyển cột \"Max Power Hp\" về kiểu dữ liệu số \n",
    "df['Max Power Hp'] = pd.to_numeric(df['Max Power Hp'], errors='coerce')"
   ]
  },
  {
   "cell_type": "code",
   "execution_count": 148,
   "metadata": {},
   "outputs": [],
   "source": [
    "# Tách \"Max Torque\" ra khỏi đơn vị và chuyền về dạng số \n",
    "df['Max Torque'] = pd.to_numeric(df['Max Torque'].str.extract(r'(\\d+)', expand = False), errors='coerce')"
   ]
  },
  {
   "cell_type": "code",
   "execution_count": 149,
   "metadata": {},
   "outputs": [],
   "source": [
    "# Xử lí cột \"Valve Actuation\"\n",
    "df['Valve Actuation'] = [np.nan if x == 'n.b.' else x for x in df['Valve Actuation']]"
   ]
  },
  {
   "cell_type": "code",
   "execution_count": 150,
   "metadata": {},
   "outputs": [],
   "source": [
    "# Xử lí cột \"Turbo\" về dịnh dạng Yes/No\n",
    "df['Turbo'] = df['Turbo'].str.extract(r'(\\w+)', expand = False)"
   ]
  },
  {
   "cell_type": "code",
   "execution_count": 151,
   "metadata": {},
   "outputs": [],
   "source": [
    "# Tách \"Fuel Tanke\" ra khỏi đơn vị \n",
    "df['Fuel Tank'] = df['Fuel Tank'].str.extract(r'(\\d+)', expand = False)"
   ]
  },
  {
   "cell_type": "code",
   "execution_count": 152,
   "metadata": {},
   "outputs": [],
   "source": [
    "# Tách \"Top Speed\" ra khỏi đơn vị và chuyển về dạng số\n",
    "df['Top Speed'] = pd.to_numeric(df['Top Speed'].str.extract(r'(\\d+)', expand = False), errors='coerce')"
   ]
  },
  {
   "cell_type": "code",
   "execution_count": 154,
   "metadata": {},
   "outputs": [
    {
     "data": {
      "text/html": [
       "<div>\n",
       "<style scoped>\n",
       "    .dataframe tbody tr th:only-of-type {\n",
       "        vertical-align: middle;\n",
       "    }\n",
       "\n",
       "    .dataframe tbody tr th {\n",
       "        vertical-align: top;\n",
       "    }\n",
       "\n",
       "    .dataframe thead th {\n",
       "        text-align: right;\n",
       "    }\n",
       "</style>\n",
       "<table border=\"1\" class=\"dataframe\">\n",
       "  <thead>\n",
       "    <tr style=\"text-align: right;\">\n",
       "      <th></th>\n",
       "      <th>Name</th>\n",
       "      <th>Brand</th>\n",
       "      <th>Price</th>\n",
       "      <th>Body</th>\n",
       "      <th>Transmission</th>\n",
       "      <th>Number Of Seats</th>\n",
       "      <th>Segment</th>\n",
       "      <th>Introduction</th>\n",
       "      <th>Drive</th>\n",
       "      <th>Drive System</th>\n",
       "      <th>...</th>\n",
       "      <th>Combined Consumption</th>\n",
       "      <th>Energy Label</th>\n",
       "      <th>Front Suspension1</th>\n",
       "      <th>Rear Suspension1</th>\n",
       "      <th>Front Suspension2</th>\n",
       "      <th>Rear Suspension2</th>\n",
       "      <th>Front Stabilizer</th>\n",
       "      <th>Rear Stabilizer</th>\n",
       "      <th>Num_doors</th>\n",
       "      <th>Dt_Transmission</th>\n",
       "    </tr>\n",
       "  </thead>\n",
       "  <tbody>\n",
       "    <tr>\n",
       "      <th>0</th>\n",
       "      <td>HYUNDAI I20 1 2 MPI I MOTION</td>\n",
       "      <td>HYUNDAI</td>\n",
       "      <td>17147.0</td>\n",
       "      <td>hatchback</td>\n",
       "      <td>5.0</td>\n",
       "      <td>5</td>\n",
       "      <td>b</td>\n",
       "      <td>2020</td>\n",
       "      <td>front</td>\n",
       "      <td>fuel engine</td>\n",
       "      <td>...</td>\n",
       "      <td>- l/100km</td>\n",
       "      <td>b</td>\n",
       "      <td>independent, mcpherson</td>\n",
       "      <td>semi-independent</td>\n",
       "      <td>coil springs</td>\n",
       "      <td>coil springs</td>\n",
       "      <td>yes</td>\n",
       "      <td>no</td>\n",
       "      <td>5</td>\n",
       "      <td>manual transmission</td>\n",
       "    </tr>\n",
       "    <tr>\n",
       "      <th>1</th>\n",
       "      <td>MERCEDES BENZ S 450 4MATIC</td>\n",
       "      <td>MERCEDES</td>\n",
       "      <td>134188.0</td>\n",
       "      <td>sedan</td>\n",
       "      <td>9.0</td>\n",
       "      <td>5</td>\n",
       "      <td>f</td>\n",
       "      <td>2020</td>\n",
       "      <td>front+rear</td>\n",
       "      <td>fuel engine</td>\n",
       "      <td>...</td>\n",
       "      <td>7,8 l/100km</td>\n",
       "      <td>b</td>\n",
       "      <td>independent, wishbone</td>\n",
       "      <td>multilink</td>\n",
       "      <td>air suspension</td>\n",
       "      <td>air suspension</td>\n",
       "      <td>yes</td>\n",
       "      <td>yes</td>\n",
       "      <td>4</td>\n",
       "      <td>automatic</td>\n",
       "    </tr>\n",
       "    <tr>\n",
       "      <th>2</th>\n",
       "      <td>OPEL MOKKA 1 2 TURBO 100HP EDITION</td>\n",
       "      <td>OPEL</td>\n",
       "      <td>25400.0</td>\n",
       "      <td>suv/crossover</td>\n",
       "      <td>6.0</td>\n",
       "      <td>5</td>\n",
       "      <td>l</td>\n",
       "      <td>2020</td>\n",
       "      <td>front</td>\n",
       "      <td>fuel engine</td>\n",
       "      <td>...</td>\n",
       "      <td>- l/100km</td>\n",
       "      <td>b</td>\n",
       "      <td>independent, mcpherson</td>\n",
       "      <td>semi-independent</td>\n",
       "      <td>coil springs</td>\n",
       "      <td>coil springs</td>\n",
       "      <td>yes</td>\n",
       "      <td>no</td>\n",
       "      <td>5</td>\n",
       "      <td>manual transmission</td>\n",
       "    </tr>\n",
       "    <tr>\n",
       "      <th>3</th>\n",
       "      <td>JAGUAR XF P250 S</td>\n",
       "      <td>JAGUAR</td>\n",
       "      <td>67805.0</td>\n",
       "      <td>sedan</td>\n",
       "      <td>8.0</td>\n",
       "      <td>5</td>\n",
       "      <td>e</td>\n",
       "      <td>2020</td>\n",
       "      <td>rear</td>\n",
       "      <td>fuel engine</td>\n",
       "      <td>...</td>\n",
       "      <td>- l/100km</td>\n",
       "      <td>c</td>\n",
       "      <td>independent, wishbone</td>\n",
       "      <td>independent, wishbone</td>\n",
       "      <td>coil springs</td>\n",
       "      <td>coil springs</td>\n",
       "      <td>yes</td>\n",
       "      <td>yes</td>\n",
       "      <td>4</td>\n",
       "      <td>automatic</td>\n",
       "    </tr>\n",
       "    <tr>\n",
       "      <th>4</th>\n",
       "      <td>JAGUAR XF SPORTBRAKE P250 S</td>\n",
       "      <td>JAGUAR</td>\n",
       "      <td>73805.0</td>\n",
       "      <td>station wagon</td>\n",
       "      <td>8.0</td>\n",
       "      <td>5</td>\n",
       "      <td>e</td>\n",
       "      <td>2020</td>\n",
       "      <td>rear</td>\n",
       "      <td>fuel engine</td>\n",
       "      <td>...</td>\n",
       "      <td>- l/100km</td>\n",
       "      <td>d</td>\n",
       "      <td>independent, wishbone</td>\n",
       "      <td>independent, wishbone</td>\n",
       "      <td>coil springs</td>\n",
       "      <td>air suspension</td>\n",
       "      <td>yes</td>\n",
       "      <td>yes</td>\n",
       "      <td>5</td>\n",
       "      <td>automatic</td>\n",
       "    </tr>\n",
       "    <tr>\n",
       "      <th>...</th>\n",
       "      <td>...</td>\n",
       "      <td>...</td>\n",
       "      <td>...</td>\n",
       "      <td>...</td>\n",
       "      <td>...</td>\n",
       "      <td>...</td>\n",
       "      <td>...</td>\n",
       "      <td>...</td>\n",
       "      <td>...</td>\n",
       "      <td>...</td>\n",
       "      <td>...</td>\n",
       "      <td>...</td>\n",
       "      <td>...</td>\n",
       "      <td>...</td>\n",
       "      <td>...</td>\n",
       "      <td>...</td>\n",
       "      <td>...</td>\n",
       "      <td>...</td>\n",
       "      <td>...</td>\n",
       "      <td>...</td>\n",
       "      <td>...</td>\n",
       "    </tr>\n",
       "    <tr>\n",
       "      <th>4524</th>\n",
       "      <td>ALFA ROMEO GIULIETTA 1 6</td>\n",
       "      <td>ALFA</td>\n",
       "      <td>13155.0</td>\n",
       "      <td>sedan</td>\n",
       "      <td>5.0</td>\n",
       "      <td>5</td>\n",
       "      <td>NaN</td>\n",
       "      <td>1983</td>\n",
       "      <td>rear</td>\n",
       "      <td>fuel engine</td>\n",
       "      <td>...</td>\n",
       "      <td>9,3 l/100km</td>\n",
       "      <td>NaN</td>\n",
       "      <td>independent, mcpherson</td>\n",
       "      <td>de dion</td>\n",
       "      <td>torsion bar</td>\n",
       "      <td>coil springs</td>\n",
       "      <td>yes</td>\n",
       "      <td>no</td>\n",
       "      <td>4</td>\n",
       "      <td>manual transmission</td>\n",
       "    </tr>\n",
       "    <tr>\n",
       "      <th>4525</th>\n",
       "      <td>ALFA ROMEO GT 1 8 T SPARK 16V IMPRESSION</td>\n",
       "      <td>ALFA</td>\n",
       "      <td>30715.0</td>\n",
       "      <td>coupé</td>\n",
       "      <td>5.0</td>\n",
       "      <td>5</td>\n",
       "      <td>g</td>\n",
       "      <td>2005</td>\n",
       "      <td>front</td>\n",
       "      <td>fuel engine</td>\n",
       "      <td>...</td>\n",
       "      <td>8,5 l/100km</td>\n",
       "      <td>g</td>\n",
       "      <td>independent, mcpherson</td>\n",
       "      <td>multilink</td>\n",
       "      <td>coil springs</td>\n",
       "      <td>coil springs</td>\n",
       "      <td>yes</td>\n",
       "      <td>yes</td>\n",
       "      <td>3</td>\n",
       "      <td>manual transmission</td>\n",
       "    </tr>\n",
       "    <tr>\n",
       "      <th>4526</th>\n",
       "      <td>ALFA ROMEO GT 1 8 T SPARK 16V IMPRESSION</td>\n",
       "      <td>ALFA</td>\n",
       "      <td>30495.0</td>\n",
       "      <td>coupé</td>\n",
       "      <td>5.0</td>\n",
       "      <td>5</td>\n",
       "      <td>g</td>\n",
       "      <td>2007</td>\n",
       "      <td>front</td>\n",
       "      <td>fuel engine</td>\n",
       "      <td>...</td>\n",
       "      <td>8,5 l/100km</td>\n",
       "      <td>g</td>\n",
       "      <td>independent, mcpherson</td>\n",
       "      <td>multilink</td>\n",
       "      <td>coil springs</td>\n",
       "      <td>coil springs</td>\n",
       "      <td>yes</td>\n",
       "      <td>yes</td>\n",
       "      <td>3</td>\n",
       "      <td>manual transmission</td>\n",
       "    </tr>\n",
       "    <tr>\n",
       "      <th>4527</th>\n",
       "      <td>ALFA ROMEO ALFETTA GTV 2000 L</td>\n",
       "      <td>ALFA</td>\n",
       "      <td>12552.0</td>\n",
       "      <td>coupé</td>\n",
       "      <td>5.0</td>\n",
       "      <td>4</td>\n",
       "      <td>g</td>\n",
       "      <td>1976</td>\n",
       "      <td>rear</td>\n",
       "      <td>fuel engine</td>\n",
       "      <td>...</td>\n",
       "      <td>10,0 l/100km</td>\n",
       "      <td>NaN</td>\n",
       "      <td>independent, mcpherson</td>\n",
       "      <td>de dion</td>\n",
       "      <td>coil springs</td>\n",
       "      <td>coil springs</td>\n",
       "      <td>yes</td>\n",
       "      <td>yes</td>\n",
       "      <td>2</td>\n",
       "      <td>manual transmission</td>\n",
       "    </tr>\n",
       "    <tr>\n",
       "      <th>4528</th>\n",
       "      <td>ALFA ROMEO GTV 2 0</td>\n",
       "      <td>ALFA</td>\n",
       "      <td>18296.0</td>\n",
       "      <td>coupé</td>\n",
       "      <td>5.0</td>\n",
       "      <td>4</td>\n",
       "      <td>g</td>\n",
       "      <td>1981</td>\n",
       "      <td>rear</td>\n",
       "      <td>fuel engine</td>\n",
       "      <td>...</td>\n",
       "      <td>9,9 l/100km</td>\n",
       "      <td>NaN</td>\n",
       "      <td>independent, mcpherson</td>\n",
       "      <td>de dion</td>\n",
       "      <td>coil springs</td>\n",
       "      <td>coil springs</td>\n",
       "      <td>yes</td>\n",
       "      <td>yes</td>\n",
       "      <td>2</td>\n",
       "      <td>manual transmission</td>\n",
       "    </tr>\n",
       "  </tbody>\n",
       "</table>\n",
       "<p>4529 rows × 30 columns</p>\n",
       "</div>"
      ],
      "text/plain": [
       "                                          Name     Brand     Price  \\\n",
       "0                 HYUNDAI I20 1 2 MPI I MOTION   HYUNDAI   17147.0   \n",
       "1                   MERCEDES BENZ S 450 4MATIC  MERCEDES  134188.0   \n",
       "2           OPEL MOKKA 1 2 TURBO 100HP EDITION      OPEL   25400.0   \n",
       "3                             JAGUAR XF P250 S    JAGUAR   67805.0   \n",
       "4                  JAGUAR XF SPORTBRAKE P250 S    JAGUAR   73805.0   \n",
       "...                                        ...       ...       ...   \n",
       "4524                  ALFA ROMEO GIULIETTA 1 6      ALFA   13155.0   \n",
       "4525  ALFA ROMEO GT 1 8 T SPARK 16V IMPRESSION      ALFA   30715.0   \n",
       "4526  ALFA ROMEO GT 1 8 T SPARK 16V IMPRESSION      ALFA   30495.0   \n",
       "4527             ALFA ROMEO ALFETTA GTV 2000 L      ALFA   12552.0   \n",
       "4528                        ALFA ROMEO GTV 2 0      ALFA   18296.0   \n",
       "\n",
       "                Body  Transmission  Number Of Seats Segment  Introduction  \\\n",
       "0          hatchback           5.0                5       b          2020   \n",
       "1              sedan           9.0                5       f          2020   \n",
       "2      suv/crossover           6.0                5       l          2020   \n",
       "3              sedan           8.0                5       e          2020   \n",
       "4      station wagon           8.0                5       e          2020   \n",
       "...              ...           ...              ...     ...           ...   \n",
       "4524           sedan           5.0                5     NaN          1983   \n",
       "4525           coupé           5.0                5       g          2005   \n",
       "4526           coupé           5.0                5       g          2007   \n",
       "4527           coupé           5.0                4       g          1976   \n",
       "4528           coupé           5.0                4       g          1981   \n",
       "\n",
       "           Drive Drive System  ... Combined Consumption Energy Label  \\\n",
       "0          front  fuel engine  ...            - l/100km            b   \n",
       "1     front+rear  fuel engine  ...          7,8 l/100km            b   \n",
       "2          front  fuel engine  ...            - l/100km            b   \n",
       "3           rear  fuel engine  ...            - l/100km            c   \n",
       "4           rear  fuel engine  ...            - l/100km            d   \n",
       "...          ...          ...  ...                  ...          ...   \n",
       "4524        rear  fuel engine  ...          9,3 l/100km          NaN   \n",
       "4525       front  fuel engine  ...          8,5 l/100km            g   \n",
       "4526       front  fuel engine  ...          8,5 l/100km            g   \n",
       "4527        rear  fuel engine  ...         10,0 l/100km          NaN   \n",
       "4528        rear  fuel engine  ...          9,9 l/100km          NaN   \n",
       "\n",
       "           Front Suspension1       Rear Suspension1  Front Suspension2  \\\n",
       "0     independent, mcpherson       semi-independent       coil springs   \n",
       "1      independent, wishbone              multilink     air suspension   \n",
       "2     independent, mcpherson       semi-independent       coil springs   \n",
       "3      independent, wishbone  independent, wishbone       coil springs   \n",
       "4      independent, wishbone  independent, wishbone       coil springs   \n",
       "...                      ...                    ...                ...   \n",
       "4524  independent, mcpherson                de dion        torsion bar   \n",
       "4525  independent, mcpherson              multilink       coil springs   \n",
       "4526  independent, mcpherson              multilink       coil springs   \n",
       "4527  independent, mcpherson                de dion       coil springs   \n",
       "4528  independent, mcpherson                de dion       coil springs   \n",
       "\n",
       "     Rear Suspension2 Front Stabilizer Rear Stabilizer Num_doors  \\\n",
       "0        coil springs              yes              no         5   \n",
       "1      air suspension              yes             yes         4   \n",
       "2        coil springs              yes              no         5   \n",
       "3        coil springs              yes             yes         4   \n",
       "4      air suspension              yes             yes         5   \n",
       "...               ...              ...             ...       ...   \n",
       "4524     coil springs              yes              no         4   \n",
       "4525     coil springs              yes             yes         3   \n",
       "4526     coil springs              yes             yes         3   \n",
       "4527     coil springs              yes             yes         2   \n",
       "4528     coil springs              yes             yes         2   \n",
       "\n",
       "          Dt_Transmission  \n",
       "0     manual transmission  \n",
       "1               automatic  \n",
       "2     manual transmission  \n",
       "3               automatic  \n",
       "4               automatic  \n",
       "...                   ...  \n",
       "4524  manual transmission  \n",
       "4525  manual transmission  \n",
       "4526  manual transmission  \n",
       "4527  manual transmission  \n",
       "4528  manual transmission  \n",
       "\n",
       "[4529 rows x 30 columns]"
      ]
     },
     "execution_count": 154,
     "metadata": {},
     "output_type": "execute_result"
    }
   ],
   "source": [
    "df"
   ]
  },
  {
   "cell_type": "markdown",
   "metadata": {},
   "source": [
    "## Xuất dữ liệu ra file\n",
    "Cuối cùng, ta xuất dữ liệu thu thập được ra file \"data.csv\" để sử dụng trong phần tiếp theo của đồ án."
   ]
  },
  {
   "cell_type": "code",
   "execution_count": null,
   "metadata": {},
   "outputs": [],
   "source": [
    "df.to_csv('cars_data.csv')"
   ]
  }
 ],
 "metadata": {
  "kernelspec": {
   "display_name": "Python 3",
   "language": "python",
   "name": "python3"
  },
  "language_info": {
   "codemirror_mode": {
    "name": "ipython",
    "version": 3
   },
   "file_extension": ".py",
   "mimetype": "text/x-python",
   "name": "python",
   "nbconvert_exporter": "python",
   "pygments_lexer": "ipython3",
   "version": "3.7.6"
  }
 },
 "nbformat": 4,
 "nbformat_minor": 4
}
