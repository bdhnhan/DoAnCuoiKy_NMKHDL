{
 "cells": [
  {
   "cell_type": "markdown",
   "metadata": {
    "Collapsed": "false"
   },
   "source": [
    "# ĐỒ ÁN CUỐI KỲ - NHẬP MÔN KHOA HỌC DỮ LIỆU\n",
    "STT nhóm: 17\n",
    "\n",
    "Thành viên:\n",
    "- 18120066 - Bùi Đoàn Hữu Nhân\n",
    "- 18120097 - Đinh Hữu Phúc Trung\n",
    "\n",
    "##  Đề tài: Dự đoán giá xe ô tô"
   ]
  },
  {
   "cell_type": "markdown",
   "metadata": {
    "Collapsed": "false"
   },
   "source": [
    "---"
   ]
  },
  {
   "cell_type": "markdown",
   "metadata": {
    "Collapsed": "false"
   },
   "source": [
    "# II - Tiền xử lý và mô hình hóa\n",
    "Trong file notebook này ta sẽ thực hiện tiền xử lý và mô hình hóa dữ liệu đã được thu thập sẵn như đã trình bày trong file `DACK-ThuThapDuLieu.ipynb`"
   ]
  },
  {
   "cell_type": "markdown",
   "metadata": {
    "Collapsed": "false"
   },
   "source": [
    "---"
   ]
  },
  {
   "cell_type": "markdown",
   "metadata": {
    "Collapsed": "false"
   },
   "source": [
    "## Import"
   ]
  },
  {
   "cell_type": "code",
   "execution_count": 1,
   "metadata": {
    "Collapsed": "false"
   },
   "outputs": [],
   "source": [
    "%matplotlib inline\n",
    "import matplotlib.pyplot as plt\n",
    "import seaborn as sns\n",
    "import pandas as pd\n",
    "import numpy as np\n",
    "\n",
    "from sklearn.model_selection import train_test_split\n",
    "from sklearn.preprocessing import OneHotEncoder, StandardScaler\n",
    "from sklearn.impute import SimpleImputer\n",
    "from sklearn.base import BaseEstimator, TransformerMixin\n",
    "from sklearn.pipeline import Pipeline, make_pipeline\n",
    "from sklearn.compose import ColumnTransformer, make_column_transformer\n",
    "from sklearn.neural_network import MLPRegressor\n",
    "from sklearn import set_config\n",
    "set_config(display='diagram')"
   ]
  },
  {
   "cell_type": "markdown",
   "metadata": {},
   "source": [
    "---"
   ]
  },
  {
   "cell_type": "markdown",
   "metadata": {
    "Collapsed": "false"
   },
   "source": [
    "## Khám phá dữ liệu (đủ để đặt câu hỏi)"
   ]
  },
  {
   "cell_type": "code",
   "execution_count": 2,
   "metadata": {
    "Collapsed": "false"
   },
   "outputs": [
    {
     "data": {
      "text/html": [
       "<div>\n",
       "<style scoped>\n",
       "    .dataframe tbody tr th:only-of-type {\n",
       "        vertical-align: middle;\n",
       "    }\n",
       "\n",
       "    .dataframe tbody tr th {\n",
       "        vertical-align: top;\n",
       "    }\n",
       "\n",
       "    .dataframe thead th {\n",
       "        text-align: right;\n",
       "    }\n",
       "</style>\n",
       "<table border=\"1\" class=\"dataframe\">\n",
       "  <thead>\n",
       "    <tr style=\"text-align: right;\">\n",
       "      <th></th>\n",
       "      <th>Name</th>\n",
       "      <th>Brand</th>\n",
       "      <th>Price</th>\n",
       "      <th>Body</th>\n",
       "      <th>Transmission</th>\n",
       "      <th>Number Of Seats</th>\n",
       "      <th>Segment</th>\n",
       "      <th>Introduction</th>\n",
       "      <th>Drive</th>\n",
       "      <th>Drive System</th>\n",
       "      <th>...</th>\n",
       "      <th>Fuel System</th>\n",
       "      <th>Valve Actuation</th>\n",
       "      <th>Turbo</th>\n",
       "      <th>Fuel Tank</th>\n",
       "      <th>Top Speed</th>\n",
       "      <th>Energy Label</th>\n",
       "      <th>Front Stabilizer</th>\n",
       "      <th>Rear Stabilizer</th>\n",
       "      <th>Num_doors</th>\n",
       "      <th>Dt_Transmission</th>\n",
       "    </tr>\n",
       "  </thead>\n",
       "  <tbody>\n",
       "    <tr>\n",
       "      <th>0</th>\n",
       "      <td>HYUNDAI I20 1 2 MPI I MOTION</td>\n",
       "      <td>HYUNDAI</td>\n",
       "      <td>17147.0</td>\n",
       "      <td>hatchback</td>\n",
       "      <td>5.0</td>\n",
       "      <td>5</td>\n",
       "      <td>b</td>\n",
       "      <td>2020</td>\n",
       "      <td>front</td>\n",
       "      <td>fuel engine</td>\n",
       "      <td>...</td>\n",
       "      <td>direct injection</td>\n",
       "      <td>dohc</td>\n",
       "      <td>no</td>\n",
       "      <td>40.0</td>\n",
       "      <td>173.0</td>\n",
       "      <td>b</td>\n",
       "      <td>yes</td>\n",
       "      <td>no</td>\n",
       "      <td>5</td>\n",
       "      <td>manual transmission</td>\n",
       "    </tr>\n",
       "    <tr>\n",
       "      <th>1</th>\n",
       "      <td>MERCEDES BENZ S 450 4MATIC</td>\n",
       "      <td>MERCEDES</td>\n",
       "      <td>134188.0</td>\n",
       "      <td>sedan</td>\n",
       "      <td>9.0</td>\n",
       "      <td>5</td>\n",
       "      <td>f</td>\n",
       "      <td>2020</td>\n",
       "      <td>front+rear</td>\n",
       "      <td>fuel engine</td>\n",
       "      <td>...</td>\n",
       "      <td>direct injection</td>\n",
       "      <td>dohc</td>\n",
       "      <td>yes</td>\n",
       "      <td>76.0</td>\n",
       "      <td>250.0</td>\n",
       "      <td>b</td>\n",
       "      <td>yes</td>\n",
       "      <td>yes</td>\n",
       "      <td>4</td>\n",
       "      <td>automatic</td>\n",
       "    </tr>\n",
       "    <tr>\n",
       "      <th>2</th>\n",
       "      <td>OPEL MOKKA 1 2 TURBO 100HP EDITION</td>\n",
       "      <td>OPEL</td>\n",
       "      <td>25400.0</td>\n",
       "      <td>suv/crossover</td>\n",
       "      <td>6.0</td>\n",
       "      <td>5</td>\n",
       "      <td>l</td>\n",
       "      <td>2020</td>\n",
       "      <td>front</td>\n",
       "      <td>fuel engine</td>\n",
       "      <td>...</td>\n",
       "      <td>direct injection</td>\n",
       "      <td>dohc</td>\n",
       "      <td>yes</td>\n",
       "      <td>44.0</td>\n",
       "      <td>188.0</td>\n",
       "      <td>b</td>\n",
       "      <td>yes</td>\n",
       "      <td>no</td>\n",
       "      <td>5</td>\n",
       "      <td>manual transmission</td>\n",
       "    </tr>\n",
       "    <tr>\n",
       "      <th>3</th>\n",
       "      <td>JAGUAR XF P250 S</td>\n",
       "      <td>JAGUAR</td>\n",
       "      <td>67805.0</td>\n",
       "      <td>sedan</td>\n",
       "      <td>8.0</td>\n",
       "      <td>5</td>\n",
       "      <td>e</td>\n",
       "      <td>2020</td>\n",
       "      <td>rear</td>\n",
       "      <td>fuel engine</td>\n",
       "      <td>...</td>\n",
       "      <td>direct injection</td>\n",
       "      <td>dohc</td>\n",
       "      <td>yes</td>\n",
       "      <td>74.0</td>\n",
       "      <td>250.0</td>\n",
       "      <td>c</td>\n",
       "      <td>yes</td>\n",
       "      <td>yes</td>\n",
       "      <td>4</td>\n",
       "      <td>automatic</td>\n",
       "    </tr>\n",
       "    <tr>\n",
       "      <th>4</th>\n",
       "      <td>JAGUAR XF SPORTBRAKE P250 S</td>\n",
       "      <td>JAGUAR</td>\n",
       "      <td>73805.0</td>\n",
       "      <td>station wagon</td>\n",
       "      <td>8.0</td>\n",
       "      <td>5</td>\n",
       "      <td>e</td>\n",
       "      <td>2020</td>\n",
       "      <td>rear</td>\n",
       "      <td>fuel engine</td>\n",
       "      <td>...</td>\n",
       "      <td>direct injection</td>\n",
       "      <td>dohc</td>\n",
       "      <td>yes</td>\n",
       "      <td>74.0</td>\n",
       "      <td>241.0</td>\n",
       "      <td>d</td>\n",
       "      <td>yes</td>\n",
       "      <td>yes</td>\n",
       "      <td>5</td>\n",
       "      <td>automatic</td>\n",
       "    </tr>\n",
       "  </tbody>\n",
       "</table>\n",
       "<p>5 rows × 24 columns</p>\n",
       "</div>"
      ],
      "text/plain": [
       "                                 Name     Brand     Price            Body  \\\n",
       "0        HYUNDAI I20 1 2 MPI I MOTION   HYUNDAI   17147.0       hatchback   \n",
       "1          MERCEDES BENZ S 450 4MATIC  MERCEDES  134188.0           sedan   \n",
       "2  OPEL MOKKA 1 2 TURBO 100HP EDITION      OPEL   25400.0   suv/crossover   \n",
       "3                    JAGUAR XF P250 S    JAGUAR   67805.0           sedan   \n",
       "4         JAGUAR XF SPORTBRAKE P250 S    JAGUAR   73805.0   station wagon   \n",
       "\n",
       "   Transmission  Number Of Seats Segment  Introduction       Drive  \\\n",
       "0           5.0                5       b          2020       front   \n",
       "1           9.0                5       f          2020  front+rear   \n",
       "2           6.0                5       l          2020       front   \n",
       "3           8.0                5       e          2020        rear   \n",
       "4           8.0                5       e          2020        rear   \n",
       "\n",
       "  Drive System  ...       Fuel System  Valve Actuation  Turbo  Fuel Tank  \\\n",
       "0  fuel engine  ...  direct injection             dohc     no       40.0   \n",
       "1  fuel engine  ...  direct injection             dohc    yes       76.0   \n",
       "2  fuel engine  ...  direct injection             dohc    yes       44.0   \n",
       "3  fuel engine  ...  direct injection             dohc    yes       74.0   \n",
       "4  fuel engine  ...  direct injection             dohc    yes       74.0   \n",
       "\n",
       "  Top Speed Energy Label Front Stabilizer  Rear Stabilizer  Num_doors  \\\n",
       "0     173.0            b              yes               no          5   \n",
       "1     250.0            b              yes              yes          4   \n",
       "2     188.0            b              yes               no          5   \n",
       "3     250.0            c              yes              yes          4   \n",
       "4     241.0            d              yes              yes          5   \n",
       "\n",
       "       Dt_Transmission  \n",
       "0  manual transmission  \n",
       "1            automatic  \n",
       "2  manual transmission  \n",
       "3            automatic  \n",
       "4            automatic  \n",
       "\n",
       "[5 rows x 24 columns]"
      ]
     },
     "execution_count": 2,
     "metadata": {},
     "output_type": "execute_result"
    }
   ],
   "source": [
    "data_df = pd.read_csv('cars_data.csv', index_col=0) # Cho cột index là cột 0\n",
    "data_df.head()"
   ]
  },
  {
   "cell_type": "markdown",
   "metadata": {},
   "source": [
    "### Dữ liệu có bao nhiêu dòng và bao nhiêu cột?"
   ]
  },
  {
   "cell_type": "code",
   "execution_count": 3,
   "metadata": {},
   "outputs": [
    {
     "data": {
      "text/plain": [
       "(4529, 24)"
      ]
     },
     "execution_count": 3,
     "metadata": {},
     "output_type": "execute_result"
    }
   ],
   "source": [
    "data_df.shape"
   ]
  },
  {
   "cell_type": "markdown",
   "metadata": {},
   "source": [
    "### Mỗi dòng có ý nghĩa gì? Có vấn đề các dòng có ý nghĩa khác nhau không?"
   ]
  },
  {
   "cell_type": "markdown",
   "metadata": {},
   "source": [
    "Quan sát sơ bộ dữ liệu ta thấy mỗi dòng chứa thông tin của một xe ôtô, và không có vấn đề các dòng có ý nghĩa khác nhau."
   ]
  },
  {
   "cell_type": "markdown",
   "metadata": {},
   "source": [
    "### Dữ liệu có các dòng bị lặp không?"
   ]
  },
  {
   "cell_type": "code",
   "execution_count": 4,
   "metadata": {},
   "outputs": [
    {
     "data": {
      "text/plain": [
       "0"
      ]
     },
     "execution_count": 4,
     "metadata": {},
     "output_type": "execute_result"
    }
   ],
   "source": [
    "data_df.index.duplicated().sum()"
   ]
  },
  {
   "cell_type": "markdown",
   "metadata": {},
   "source": [
    "### Mỗi cột có ý nghĩa gì?"
   ]
  },
  {
   "cell_type": "markdown",
   "metadata": {},
   "source": [
    "Ý nghĩa của mỗi cột như sau:\n",
    "\n",
    "    Name                  Tên xe\n",
    "    Brand                 Hãng xe\n",
    "    Price                 Giá xe\n",
    "    Body                  Loại thân xe\n",
    "    Transmission          Số cấp của hộp số\n",
    "    Number Of Seats       Số chỗ ngồi\n",
    "    Segment               Loại kích cỡ xe\n",
    "    Introduction          Năm sản xuất\n",
    "    Drive                 Hệ thống dẫn động\n",
    "    Drive System          Loại động cơ\n",
    "    Fuel                  Loại nhiên liệu\n",
    "    Cylinder Capacity     Dung tích xilanh\n",
    "    Max Power Hp          Công suất tối đa đơn vị là mã lực\n",
    "    Max Torque            Momen xoắn cực đại\n",
    "    Fuel System           Hệ thống nhiên liệu\n",
    "    Valve Actuation       Kiểu kích hoạt van\n",
    "    Turbo                 Bộ tăng áp\n",
    "    Fuel Tank             Dung tích bình nhiên liệu\n",
    "    Top Speed             Tốc độ tối đa\n",
    "    Energy Label          Nhãn năng lượng\n",
    "    Front Stabilizer      Bộ ổn định phía trước\n",
    "    Rear Stabilizer       Bộ ổn định phía sau\n",
    "    Num_doors             Số cửa\n",
    "    Dt_Transmission       Loại hộp số"
   ]
  },
  {
   "cell_type": "markdown",
   "metadata": {},
   "source": [
    "---"
   ]
  },
  {
   "cell_type": "markdown",
   "metadata": {},
   "source": [
    "## Đưa ra câu hỏi cần trả lời"
   ]
  },
  {
   "cell_type": "markdown",
   "metadata": {},
   "source": [
    "**Câu hỏi:**\n",
    "\n",
    "*Output - giá ôtô -* được tính từ *input - các đặc trưng, bộ phận của ôtô -* theo công thức nào?\n",
    "\n",
    "**Lợi ích:**\n",
    "\n",
    "Việc tìm ra câu trả lời cho câu hỏi này sẽ có lợi ích là:\n",
    "- Về phía người bán: giúp định giá được xe ôtô dựa vào cấu tạo của xe.\n",
    "- Về phía người mua: giúp người mua nắm được giá theo thị trường của loại xe đó khi biết các đặc trưng của xe."
   ]
  },
  {
   "cell_type": "markdown",
   "metadata": {},
   "source": [
    "### Xóa cột input không cần thiết trong việc tính toán\n",
    "Nhân thấy cột \"Name\" không có tác dụng trong việc tính toán output cho câu hỏi trên. Ta sẽ thực hiện xóa cột này. "
   ]
  },
  {
   "cell_type": "code",
   "execution_count": 5,
   "metadata": {},
   "outputs": [
    {
     "data": {
      "text/html": [
       "<div>\n",
       "<style scoped>\n",
       "    .dataframe tbody tr th:only-of-type {\n",
       "        vertical-align: middle;\n",
       "    }\n",
       "\n",
       "    .dataframe tbody tr th {\n",
       "        vertical-align: top;\n",
       "    }\n",
       "\n",
       "    .dataframe thead th {\n",
       "        text-align: right;\n",
       "    }\n",
       "</style>\n",
       "<table border=\"1\" class=\"dataframe\">\n",
       "  <thead>\n",
       "    <tr style=\"text-align: right;\">\n",
       "      <th></th>\n",
       "      <th>Brand</th>\n",
       "      <th>Price</th>\n",
       "      <th>Body</th>\n",
       "      <th>Transmission</th>\n",
       "      <th>Number Of Seats</th>\n",
       "      <th>Segment</th>\n",
       "      <th>Introduction</th>\n",
       "      <th>Drive</th>\n",
       "      <th>Drive System</th>\n",
       "      <th>Fuel</th>\n",
       "      <th>...</th>\n",
       "      <th>Fuel System</th>\n",
       "      <th>Valve Actuation</th>\n",
       "      <th>Turbo</th>\n",
       "      <th>Fuel Tank</th>\n",
       "      <th>Top Speed</th>\n",
       "      <th>Energy Label</th>\n",
       "      <th>Front Stabilizer</th>\n",
       "      <th>Rear Stabilizer</th>\n",
       "      <th>Num_doors</th>\n",
       "      <th>Dt_Transmission</th>\n",
       "    </tr>\n",
       "  </thead>\n",
       "  <tbody>\n",
       "    <tr>\n",
       "      <th>0</th>\n",
       "      <td>HYUNDAI</td>\n",
       "      <td>17147.0</td>\n",
       "      <td>hatchback</td>\n",
       "      <td>5.0</td>\n",
       "      <td>5</td>\n",
       "      <td>b</td>\n",
       "      <td>2020</td>\n",
       "      <td>front</td>\n",
       "      <td>fuel engine</td>\n",
       "      <td>gasoline</td>\n",
       "      <td>...</td>\n",
       "      <td>direct injection</td>\n",
       "      <td>dohc</td>\n",
       "      <td>no</td>\n",
       "      <td>40.0</td>\n",
       "      <td>173.0</td>\n",
       "      <td>b</td>\n",
       "      <td>yes</td>\n",
       "      <td>no</td>\n",
       "      <td>5</td>\n",
       "      <td>manual transmission</td>\n",
       "    </tr>\n",
       "    <tr>\n",
       "      <th>1</th>\n",
       "      <td>MERCEDES</td>\n",
       "      <td>134188.0</td>\n",
       "      <td>sedan</td>\n",
       "      <td>9.0</td>\n",
       "      <td>5</td>\n",
       "      <td>f</td>\n",
       "      <td>2020</td>\n",
       "      <td>front+rear</td>\n",
       "      <td>fuel engine</td>\n",
       "      <td>gasoline</td>\n",
       "      <td>...</td>\n",
       "      <td>direct injection</td>\n",
       "      <td>dohc</td>\n",
       "      <td>yes</td>\n",
       "      <td>76.0</td>\n",
       "      <td>250.0</td>\n",
       "      <td>b</td>\n",
       "      <td>yes</td>\n",
       "      <td>yes</td>\n",
       "      <td>4</td>\n",
       "      <td>automatic</td>\n",
       "    </tr>\n",
       "    <tr>\n",
       "      <th>2</th>\n",
       "      <td>OPEL</td>\n",
       "      <td>25400.0</td>\n",
       "      <td>suv/crossover</td>\n",
       "      <td>6.0</td>\n",
       "      <td>5</td>\n",
       "      <td>l</td>\n",
       "      <td>2020</td>\n",
       "      <td>front</td>\n",
       "      <td>fuel engine</td>\n",
       "      <td>gasoline</td>\n",
       "      <td>...</td>\n",
       "      <td>direct injection</td>\n",
       "      <td>dohc</td>\n",
       "      <td>yes</td>\n",
       "      <td>44.0</td>\n",
       "      <td>188.0</td>\n",
       "      <td>b</td>\n",
       "      <td>yes</td>\n",
       "      <td>no</td>\n",
       "      <td>5</td>\n",
       "      <td>manual transmission</td>\n",
       "    </tr>\n",
       "    <tr>\n",
       "      <th>3</th>\n",
       "      <td>JAGUAR</td>\n",
       "      <td>67805.0</td>\n",
       "      <td>sedan</td>\n",
       "      <td>8.0</td>\n",
       "      <td>5</td>\n",
       "      <td>e</td>\n",
       "      <td>2020</td>\n",
       "      <td>rear</td>\n",
       "      <td>fuel engine</td>\n",
       "      <td>gasoline</td>\n",
       "      <td>...</td>\n",
       "      <td>direct injection</td>\n",
       "      <td>dohc</td>\n",
       "      <td>yes</td>\n",
       "      <td>74.0</td>\n",
       "      <td>250.0</td>\n",
       "      <td>c</td>\n",
       "      <td>yes</td>\n",
       "      <td>yes</td>\n",
       "      <td>4</td>\n",
       "      <td>automatic</td>\n",
       "    </tr>\n",
       "    <tr>\n",
       "      <th>4</th>\n",
       "      <td>JAGUAR</td>\n",
       "      <td>73805.0</td>\n",
       "      <td>station wagon</td>\n",
       "      <td>8.0</td>\n",
       "      <td>5</td>\n",
       "      <td>e</td>\n",
       "      <td>2020</td>\n",
       "      <td>rear</td>\n",
       "      <td>fuel engine</td>\n",
       "      <td>gasoline</td>\n",
       "      <td>...</td>\n",
       "      <td>direct injection</td>\n",
       "      <td>dohc</td>\n",
       "      <td>yes</td>\n",
       "      <td>74.0</td>\n",
       "      <td>241.0</td>\n",
       "      <td>d</td>\n",
       "      <td>yes</td>\n",
       "      <td>yes</td>\n",
       "      <td>5</td>\n",
       "      <td>automatic</td>\n",
       "    </tr>\n",
       "    <tr>\n",
       "      <th>...</th>\n",
       "      <td>...</td>\n",
       "      <td>...</td>\n",
       "      <td>...</td>\n",
       "      <td>...</td>\n",
       "      <td>...</td>\n",
       "      <td>...</td>\n",
       "      <td>...</td>\n",
       "      <td>...</td>\n",
       "      <td>...</td>\n",
       "      <td>...</td>\n",
       "      <td>...</td>\n",
       "      <td>...</td>\n",
       "      <td>...</td>\n",
       "      <td>...</td>\n",
       "      <td>...</td>\n",
       "      <td>...</td>\n",
       "      <td>...</td>\n",
       "      <td>...</td>\n",
       "      <td>...</td>\n",
       "      <td>...</td>\n",
       "      <td>...</td>\n",
       "    </tr>\n",
       "    <tr>\n",
       "      <th>4524</th>\n",
       "      <td>ALFA</td>\n",
       "      <td>13155.0</td>\n",
       "      <td>sedan</td>\n",
       "      <td>5.0</td>\n",
       "      <td>5</td>\n",
       "      <td>NaN</td>\n",
       "      <td>1983</td>\n",
       "      <td>rear</td>\n",
       "      <td>fuel engine</td>\n",
       "      <td>gasoline</td>\n",
       "      <td>...</td>\n",
       "      <td>carburettor</td>\n",
       "      <td>dohc</td>\n",
       "      <td>no</td>\n",
       "      <td>50.0</td>\n",
       "      <td>175.0</td>\n",
       "      <td>NaN</td>\n",
       "      <td>yes</td>\n",
       "      <td>no</td>\n",
       "      <td>4</td>\n",
       "      <td>manual transmission</td>\n",
       "    </tr>\n",
       "    <tr>\n",
       "      <th>4525</th>\n",
       "      <td>ALFA</td>\n",
       "      <td>30715.0</td>\n",
       "      <td>coupé</td>\n",
       "      <td>5.0</td>\n",
       "      <td>5</td>\n",
       "      <td>g</td>\n",
       "      <td>2005</td>\n",
       "      <td>front</td>\n",
       "      <td>fuel engine</td>\n",
       "      <td>gasoline</td>\n",
       "      <td>...</td>\n",
       "      <td>multipoint injection</td>\n",
       "      <td>dohc</td>\n",
       "      <td>no</td>\n",
       "      <td>63.0</td>\n",
       "      <td>200.0</td>\n",
       "      <td>g</td>\n",
       "      <td>yes</td>\n",
       "      <td>yes</td>\n",
       "      <td>3</td>\n",
       "      <td>manual transmission</td>\n",
       "    </tr>\n",
       "    <tr>\n",
       "      <th>4526</th>\n",
       "      <td>ALFA</td>\n",
       "      <td>30495.0</td>\n",
       "      <td>coupé</td>\n",
       "      <td>5.0</td>\n",
       "      <td>5</td>\n",
       "      <td>g</td>\n",
       "      <td>2007</td>\n",
       "      <td>front</td>\n",
       "      <td>fuel engine</td>\n",
       "      <td>gasoline</td>\n",
       "      <td>...</td>\n",
       "      <td>multipoint injection</td>\n",
       "      <td>dohc</td>\n",
       "      <td>no</td>\n",
       "      <td>63.0</td>\n",
       "      <td>200.0</td>\n",
       "      <td>g</td>\n",
       "      <td>yes</td>\n",
       "      <td>yes</td>\n",
       "      <td>3</td>\n",
       "      <td>manual transmission</td>\n",
       "    </tr>\n",
       "    <tr>\n",
       "      <th>4527</th>\n",
       "      <td>ALFA</td>\n",
       "      <td>12552.0</td>\n",
       "      <td>coupé</td>\n",
       "      <td>5.0</td>\n",
       "      <td>4</td>\n",
       "      <td>g</td>\n",
       "      <td>1976</td>\n",
       "      <td>rear</td>\n",
       "      <td>fuel engine</td>\n",
       "      <td>gasoline</td>\n",
       "      <td>...</td>\n",
       "      <td>carburettor</td>\n",
       "      <td>dohc</td>\n",
       "      <td>no</td>\n",
       "      <td>54.0</td>\n",
       "      <td>196.0</td>\n",
       "      <td>NaN</td>\n",
       "      <td>yes</td>\n",
       "      <td>yes</td>\n",
       "      <td>2</td>\n",
       "      <td>manual transmission</td>\n",
       "    </tr>\n",
       "    <tr>\n",
       "      <th>4528</th>\n",
       "      <td>ALFA</td>\n",
       "      <td>18296.0</td>\n",
       "      <td>coupé</td>\n",
       "      <td>5.0</td>\n",
       "      <td>4</td>\n",
       "      <td>g</td>\n",
       "      <td>1981</td>\n",
       "      <td>rear</td>\n",
       "      <td>fuel engine</td>\n",
       "      <td>gasoline</td>\n",
       "      <td>...</td>\n",
       "      <td>carburettor</td>\n",
       "      <td>dohc</td>\n",
       "      <td>no</td>\n",
       "      <td>54.0</td>\n",
       "      <td>190.0</td>\n",
       "      <td>NaN</td>\n",
       "      <td>yes</td>\n",
       "      <td>yes</td>\n",
       "      <td>2</td>\n",
       "      <td>manual transmission</td>\n",
       "    </tr>\n",
       "  </tbody>\n",
       "</table>\n",
       "<p>4529 rows × 23 columns</p>\n",
       "</div>"
      ],
      "text/plain": [
       "         Brand     Price            Body  Transmission  Number Of Seats  \\\n",
       "0      HYUNDAI   17147.0       hatchback           5.0                5   \n",
       "1     MERCEDES  134188.0           sedan           9.0                5   \n",
       "2         OPEL   25400.0   suv/crossover           6.0                5   \n",
       "3       JAGUAR   67805.0           sedan           8.0                5   \n",
       "4       JAGUAR   73805.0   station wagon           8.0                5   \n",
       "...        ...       ...             ...           ...              ...   \n",
       "4524      ALFA   13155.0           sedan           5.0                5   \n",
       "4525      ALFA   30715.0           coupé           5.0                5   \n",
       "4526      ALFA   30495.0           coupé           5.0                5   \n",
       "4527      ALFA   12552.0           coupé           5.0                4   \n",
       "4528      ALFA   18296.0           coupé           5.0                4   \n",
       "\n",
       "     Segment  Introduction       Drive Drive System      Fuel  ...  \\\n",
       "0          b          2020       front  fuel engine  gasoline  ...   \n",
       "1          f          2020  front+rear  fuel engine  gasoline  ...   \n",
       "2          l          2020       front  fuel engine  gasoline  ...   \n",
       "3          e          2020        rear  fuel engine  gasoline  ...   \n",
       "4          e          2020        rear  fuel engine  gasoline  ...   \n",
       "...      ...           ...         ...          ...       ...  ...   \n",
       "4524     NaN          1983        rear  fuel engine  gasoline  ...   \n",
       "4525       g          2005       front  fuel engine  gasoline  ...   \n",
       "4526       g          2007       front  fuel engine  gasoline  ...   \n",
       "4527       g          1976        rear  fuel engine  gasoline  ...   \n",
       "4528       g          1981        rear  fuel engine  gasoline  ...   \n",
       "\n",
       "               Fuel System  Valve Actuation  Turbo Fuel Tank Top Speed  \\\n",
       "0         direct injection             dohc     no      40.0     173.0   \n",
       "1         direct injection             dohc    yes      76.0     250.0   \n",
       "2         direct injection             dohc    yes      44.0     188.0   \n",
       "3         direct injection             dohc    yes      74.0     250.0   \n",
       "4         direct injection             dohc    yes      74.0     241.0   \n",
       "...                    ...              ...    ...       ...       ...   \n",
       "4524           carburettor             dohc     no      50.0     175.0   \n",
       "4525  multipoint injection             dohc     no      63.0     200.0   \n",
       "4526  multipoint injection             dohc     no      63.0     200.0   \n",
       "4527           carburettor             dohc     no      54.0     196.0   \n",
       "4528           carburettor             dohc     no      54.0     190.0   \n",
       "\n",
       "     Energy Label  Front Stabilizer  Rear Stabilizer Num_doors  \\\n",
       "0               b               yes               no         5   \n",
       "1               b               yes              yes         4   \n",
       "2               b               yes               no         5   \n",
       "3               c               yes              yes         4   \n",
       "4               d               yes              yes         5   \n",
       "...           ...               ...              ...       ...   \n",
       "4524          NaN               yes               no         4   \n",
       "4525            g               yes              yes         3   \n",
       "4526            g               yes              yes         3   \n",
       "4527          NaN               yes              yes         2   \n",
       "4528          NaN               yes              yes         2   \n",
       "\n",
       "          Dt_Transmission  \n",
       "0     manual transmission  \n",
       "1               automatic  \n",
       "2     manual transmission  \n",
       "3               automatic  \n",
       "4               automatic  \n",
       "...                   ...  \n",
       "4524  manual transmission  \n",
       "4525  manual transmission  \n",
       "4526  manual transmission  \n",
       "4527  manual transmission  \n",
       "4528  manual transmission  \n",
       "\n",
       "[4529 rows x 23 columns]"
      ]
     },
     "execution_count": 5,
     "metadata": {},
     "output_type": "execute_result"
    }
   ],
   "source": [
    "data_df.drop(['Name'], axis=1)"
   ]
  },
  {
   "cell_type": "markdown",
   "metadata": {
    "Collapsed": "false"
   },
   "source": [
    "---"
   ]
  },
  {
   "cell_type": "markdown",
   "metadata": {
    "Collapsed": "false"
   },
   "source": [
    "## Khám phá dữ liệu (để biết cách tách các tập)"
   ]
  },
  {
   "cell_type": "code",
   "execution_count": 6,
   "metadata": {},
   "outputs": [
    {
     "data": {
      "text/plain": [
       "dtype('float64')"
      ]
     },
     "execution_count": 6,
     "metadata": {},
     "output_type": "execute_result"
    }
   ],
   "source": [
    "# Cột output hiện có kiểu dữ liệu gì?\n",
    "data_df['Price'].dtype"
   ]
  },
  {
   "cell_type": "code",
   "execution_count": 7,
   "metadata": {},
   "outputs": [
    {
     "data": {
      "text/plain": [
       "0"
      ]
     },
     "execution_count": 7,
     "metadata": {},
     "output_type": "execute_result"
    }
   ],
   "source": [
    "# Cột output có giá trị thiếu không?\n",
    "data_df['Price'].isna().sum()"
   ]
  },
  {
   "cell_type": "markdown",
   "metadata": {},
   "source": [
    "Như vậy là không có vấn đề gì cần xử lí ở đây cả."
   ]
  },
  {
   "cell_type": "markdown",
   "metadata": {},
   "source": [
    "---"
   ]
  },
  {
   "cell_type": "markdown",
   "metadata": {},
   "source": [
    "## Tiền xử lý (tách các tập)"
   ]
  },
  {
   "cell_type": "markdown",
   "metadata": {},
   "source": [
    "Bây giờ ta sẽ thực hiện bước tiền xử lý là tách tập validation và tập kiểm tra ra."
   ]
  },
  {
   "cell_type": "code",
   "execution_count": 8,
   "metadata": {
    "Collapsed": "false"
   },
   "outputs": [],
   "source": [
    "# Tách X và y\n",
    "y_sr = data_df['Price']\n",
    "X_df = data_df.drop(['Price'], axis=1)"
   ]
  },
  {
   "cell_type": "code",
   "execution_count": 9,
   "metadata": {
    "Collapsed": "false"
   },
   "outputs": [],
   "source": [
    "# Tách tập kiểm tra\n",
    "X_df, test_X_df, y_sr, test_y_sr = train_test_split(X_df, y_sr, test_size=0.2, random_state=0)"
   ]
  },
  {
   "cell_type": "code",
   "execution_count": 10,
   "metadata": {},
   "outputs": [],
   "source": [
    "# Tách tập validation\n",
    "train_X_df, val_X_df, train_y_sr, val_y_sr = train_test_split(X_df, y_sr, test_size=0.25, random_state=0)"
   ]
  },
  {
   "cell_type": "code",
   "execution_count": 11,
   "metadata": {},
   "outputs": [
    {
     "data": {
      "text/plain": [
       "(2717, 23)"
      ]
     },
     "execution_count": 11,
     "metadata": {},
     "output_type": "execute_result"
    }
   ],
   "source": [
    "train_X_df.shape"
   ]
  },
  {
   "cell_type": "code",
   "execution_count": 12,
   "metadata": {},
   "outputs": [
    {
     "data": {
      "text/plain": [
       "(2717,)"
      ]
     },
     "execution_count": 12,
     "metadata": {},
     "output_type": "execute_result"
    }
   ],
   "source": [
    "train_y_sr.shape"
   ]
  },
  {
   "cell_type": "code",
   "execution_count": 13,
   "metadata": {},
   "outputs": [
    {
     "data": {
      "text/plain": [
       "(906, 23)"
      ]
     },
     "execution_count": 13,
     "metadata": {},
     "output_type": "execute_result"
    }
   ],
   "source": [
    "val_X_df.shape"
   ]
  },
  {
   "cell_type": "code",
   "execution_count": 14,
   "metadata": {},
   "outputs": [
    {
     "data": {
      "text/plain": [
       "(906,)"
      ]
     },
     "execution_count": 14,
     "metadata": {},
     "output_type": "execute_result"
    }
   ],
   "source": [
    "val_y_sr.shape"
   ]
  },
  {
   "cell_type": "code",
   "execution_count": 15,
   "metadata": {},
   "outputs": [
    {
     "data": {
      "text/plain": [
       "(906, 23)"
      ]
     },
     "execution_count": 15,
     "metadata": {},
     "output_type": "execute_result"
    }
   ],
   "source": [
    "test_X_df.shape"
   ]
  },
  {
   "cell_type": "code",
   "execution_count": 16,
   "metadata": {},
   "outputs": [
    {
     "data": {
      "text/plain": [
       "(906,)"
      ]
     },
     "execution_count": 16,
     "metadata": {},
     "output_type": "execute_result"
    }
   ],
   "source": [
    "test_y_sr.shape"
   ]
  },
  {
   "cell_type": "code",
   "execution_count": 17,
   "metadata": {
    "Collapsed": "false"
   },
   "outputs": [
    {
     "data": {
      "text/plain": [
       "Int64Index([3915, 3057, 3708, 1542, 1573], dtype='int64')"
      ]
     },
     "execution_count": 17,
     "metadata": {},
     "output_type": "execute_result"
    }
   ],
   "source": [
    "train_X_df.head().index"
   ]
  },
  {
   "cell_type": "markdown",
   "metadata": {
    "Collapsed": "false"
   },
   "source": [
    "---"
   ]
  },
  {
   "cell_type": "markdown",
   "metadata": {
    "Collapsed": "false"
   },
   "source": [
    "## Khám phá dữ liệu (tập huấn luyện)"
   ]
  },
  {
   "cell_type": "markdown",
   "metadata": {},
   "source": [
    "Sau khi đã tách ra các tập thì ta có thể thoải mái khám phá trên tập huấn luyện mà không lo sẽ làm kết quả trên tập validation và tập kiểm tra bị mất đi sự khách quan."
   ]
  },
  {
   "cell_type": "markdown",
   "metadata": {},
   "source": [
    "### Mỗi cột input hiện đang có kiểu dữ liệu gì? Có cột nào có kiểu dữ liệu chưa phù hợp để có thể xử lý tiếp không?"
   ]
  },
  {
   "cell_type": "code",
   "execution_count": 18,
   "metadata": {},
   "outputs": [
    {
     "data": {
      "text/plain": [
       "Name                  object\n",
       "Brand                 object\n",
       "Body                  object\n",
       "Transmission         float64\n",
       "Number Of Seats        int64\n",
       "Segment               object\n",
       "Introduction           int64\n",
       "Drive                 object\n",
       "Drive System          object\n",
       "Fuel                  object\n",
       "Cylinder Capacity    float64\n",
       "Max Power Hp         float64\n",
       "Max Torque           float64\n",
       "Fuel System           object\n",
       "Valve Actuation       object\n",
       "Turbo                 object\n",
       "Fuel Tank            float64\n",
       "Top Speed            float64\n",
       "Energy Label          object\n",
       "Front Stabilizer      object\n",
       "Rear Stabilizer       object\n",
       "Num_doors              int64\n",
       "Dt_Transmission       object\n",
       "dtype: object"
      ]
     },
     "execution_count": 18,
     "metadata": {},
     "output_type": "execute_result"
    }
   ],
   "source": [
    "train_X_df.dtypes"
   ]
  },
  {
   "cell_type": "markdown",
   "metadata": {},
   "source": [
    "Có vẻ các cột đều có kiểu dữ liệu phù hợp. "
   ]
  },
  {
   "cell_type": "markdown",
   "metadata": {},
   "source": [
    "### Với mỗi cột input có kiểu dữ liệu dạng số, các giá trị được phân bố như thế nào?"
   ]
  },
  {
   "cell_type": "markdown",
   "metadata": {},
   "source": [
    "Trong `train_X_df`, có 5/10 cột có dtype không phải là object:"
   ]
  },
  {
   "cell_type": "code",
   "execution_count": 19,
   "metadata": {},
   "outputs": [
    {
     "data": {
      "text/plain": [
       "Transmission         float64\n",
       "Number Of Seats        int64\n",
       "Introduction           int64\n",
       "Cylinder Capacity    float64\n",
       "Max Power Hp         float64\n",
       "Max Torque           float64\n",
       "Fuel Tank            float64\n",
       "Top Speed            float64\n",
       "Num_doors              int64\n",
       "dtype: object"
      ]
     },
     "execution_count": 19,
     "metadata": {},
     "output_type": "execute_result"
    }
   ],
   "source": [
    "train_X_df.dtypes[train_X_df.dtypes != object]"
   ]
  },
  {
   "cell_type": "code",
   "execution_count": 20,
   "metadata": {},
   "outputs": [
    {
     "data": {
      "text/html": [
       "<div>\n",
       "<style scoped>\n",
       "    .dataframe tbody tr th:only-of-type {\n",
       "        vertical-align: middle;\n",
       "    }\n",
       "\n",
       "    .dataframe tbody tr th {\n",
       "        vertical-align: top;\n",
       "    }\n",
       "\n",
       "    .dataframe thead th {\n",
       "        text-align: right;\n",
       "    }\n",
       "</style>\n",
       "<table border=\"1\" class=\"dataframe\">\n",
       "  <thead>\n",
       "    <tr style=\"text-align: right;\">\n",
       "      <th></th>\n",
       "      <th>Transmission</th>\n",
       "      <th>Number Of Seats</th>\n",
       "      <th>Introduction</th>\n",
       "      <th>Cylinder Capacity</th>\n",
       "      <th>Max Power Hp</th>\n",
       "      <th>Max Torque</th>\n",
       "      <th>Fuel Tank</th>\n",
       "      <th>Top Speed</th>\n",
       "      <th>Num_doors</th>\n",
       "    </tr>\n",
       "  </thead>\n",
       "  <tbody>\n",
       "    <tr>\n",
       "      <th>missing_ratio</th>\n",
       "      <td>1.0</td>\n",
       "      <td>0.0</td>\n",
       "      <td>0.0</td>\n",
       "      <td>0.3</td>\n",
       "      <td>0.4</td>\n",
       "      <td>0.4</td>\n",
       "      <td>0.3</td>\n",
       "      <td>1.3</td>\n",
       "      <td>0.0</td>\n",
       "    </tr>\n",
       "    <tr>\n",
       "      <th>min</th>\n",
       "      <td>0.0</td>\n",
       "      <td>0.0</td>\n",
       "      <td>1969.0</td>\n",
       "      <td>2.0</td>\n",
       "      <td>29.0</td>\n",
       "      <td>38.0</td>\n",
       "      <td>22.0</td>\n",
       "      <td>110.0</td>\n",
       "      <td>2.0</td>\n",
       "    </tr>\n",
       "    <tr>\n",
       "      <th>lower_quartile</th>\n",
       "      <td>5.0</td>\n",
       "      <td>5.0</td>\n",
       "      <td>1994.0</td>\n",
       "      <td>2.0</td>\n",
       "      <td>80.0</td>\n",
       "      <td>121.0</td>\n",
       "      <td>50.0</td>\n",
       "      <td>163.0</td>\n",
       "      <td>3.0</td>\n",
       "    </tr>\n",
       "    <tr>\n",
       "      <th>median</th>\n",
       "      <td>5.0</td>\n",
       "      <td>5.0</td>\n",
       "      <td>2003.0</td>\n",
       "      <td>4.0</td>\n",
       "      <td>110.0</td>\n",
       "      <td>167.0</td>\n",
       "      <td>60.0</td>\n",
       "      <td>180.0</td>\n",
       "      <td>4.0</td>\n",
       "    </tr>\n",
       "    <tr>\n",
       "      <th>upper_quartile</th>\n",
       "      <td>6.0</td>\n",
       "      <td>5.0</td>\n",
       "      <td>2012.0</td>\n",
       "      <td>4.0</td>\n",
       "      <td>160.0</td>\n",
       "      <td>250.0</td>\n",
       "      <td>70.0</td>\n",
       "      <td>206.0</td>\n",
       "      <td>5.0</td>\n",
       "    </tr>\n",
       "    <tr>\n",
       "      <th>max</th>\n",
       "      <td>9.0</td>\n",
       "      <td>9.0</td>\n",
       "      <td>2021.0</td>\n",
       "      <td>5.0</td>\n",
       "      <td>1001.0</td>\n",
       "      <td>1250.0</td>\n",
       "      <td>121.0</td>\n",
       "      <td>407.0</td>\n",
       "      <td>5.0</td>\n",
       "    </tr>\n",
       "  </tbody>\n",
       "</table>\n",
       "</div>"
      ],
      "text/plain": [
       "                Transmission  Number Of Seats  Introduction  \\\n",
       "missing_ratio            1.0              0.0           0.0   \n",
       "min                      0.0              0.0        1969.0   \n",
       "lower_quartile           5.0              5.0        1994.0   \n",
       "median                   5.0              5.0        2003.0   \n",
       "upper_quartile           6.0              5.0        2012.0   \n",
       "max                      9.0              9.0        2021.0   \n",
       "\n",
       "                Cylinder Capacity  Max Power Hp  Max Torque  Fuel Tank  \\\n",
       "missing_ratio                 0.3           0.4         0.4        0.3   \n",
       "min                           2.0          29.0        38.0       22.0   \n",
       "lower_quartile                2.0          80.0       121.0       50.0   \n",
       "median                        4.0         110.0       167.0       60.0   \n",
       "upper_quartile                4.0         160.0       250.0       70.0   \n",
       "max                           5.0        1001.0      1250.0      121.0   \n",
       "\n",
       "                Top Speed  Num_doors  \n",
       "missing_ratio         1.3        0.0  \n",
       "min                 110.0        2.0  \n",
       "lower_quartile      163.0        3.0  \n",
       "median              180.0        4.0  \n",
       "upper_quartile      206.0        5.0  \n",
       "max                 407.0        5.0  "
      ]
     },
     "execution_count": 20,
     "metadata": {},
     "output_type": "execute_result"
    }
   ],
   "source": [
    "num_cols = ['Transmission', 'Number Of Seats', 'Introduction', 'Cylinder Capacity', 'Max Power Hp', \n",
    "            'Max Torque', 'Fuel Tank', 'Top Speed', 'Num_doors']\n",
    "df = train_X_df[num_cols]\n",
    "def missing_ratio(df):\n",
    "    return (df.isna().mean() * 100).round(1)\n",
    "def lower_quartile(df):\n",
    "    return df.quantile(0.25).round(1)\n",
    "def median(df):\n",
    "    return df.quantile(0.5).round(1)\n",
    "def upper_quartile(df):\n",
    "    return df.quantile(0.75).round(1)\n",
    "df.agg([missing_ratio, 'min', lower_quartile, median, upper_quartile, 'max'])"
   ]
  },
  {
   "cell_type": "markdown",
   "metadata": {},
   "source": [
    "### Với mỗi cột input có kiểu dữ liệu không phải dạng số, các giá trị được phân bố như thế nào?"
   ]
  },
  {
   "cell_type": "code",
   "execution_count": 21,
   "metadata": {
    "Collapsed": "false"
   },
   "outputs": [
    {
     "data": {
      "text/html": [
       "<div>\n",
       "<style scoped>\n",
       "    .dataframe tbody tr th:only-of-type {\n",
       "        vertical-align: middle;\n",
       "    }\n",
       "\n",
       "    .dataframe tbody tr th {\n",
       "        vertical-align: top;\n",
       "    }\n",
       "\n",
       "    .dataframe thead th {\n",
       "        text-align: right;\n",
       "    }\n",
       "</style>\n",
       "<table border=\"1\" class=\"dataframe\">\n",
       "  <thead>\n",
       "    <tr style=\"text-align: right;\">\n",
       "      <th></th>\n",
       "      <th>Front Stabilizer</th>\n",
       "      <th>Drive</th>\n",
       "      <th>Turbo</th>\n",
       "      <th>Dt_Transmission</th>\n",
       "      <th>Drive System</th>\n",
       "      <th>Fuel</th>\n",
       "      <th>Energy Label</th>\n",
       "      <th>Body</th>\n",
       "      <th>Segment</th>\n",
       "      <th>Rear Stabilizer</th>\n",
       "      <th>Name</th>\n",
       "      <th>Brand</th>\n",
       "      <th>Fuel System</th>\n",
       "      <th>Valve Actuation</th>\n",
       "    </tr>\n",
       "  </thead>\n",
       "  <tbody>\n",
       "    <tr>\n",
       "      <th>missing_ratio</th>\n",
       "      <td>0</td>\n",
       "      <td>0</td>\n",
       "      <td>0</td>\n",
       "      <td>0</td>\n",
       "      <td>0</td>\n",
       "      <td>0</td>\n",
       "      <td>32.5</td>\n",
       "      <td>0</td>\n",
       "      <td>13.1</td>\n",
       "      <td>0</td>\n",
       "      <td>0</td>\n",
       "      <td>0</td>\n",
       "      <td>0</td>\n",
       "      <td>0</td>\n",
       "    </tr>\n",
       "    <tr>\n",
       "      <th>num_values</th>\n",
       "      <td>2</td>\n",
       "      <td>3</td>\n",
       "      <td>3</td>\n",
       "      <td>5</td>\n",
       "      <td>2</td>\n",
       "      <td>4</td>\n",
       "      <td>7</td>\n",
       "      <td>11</td>\n",
       "      <td>14</td>\n",
       "      <td>2</td>\n",
       "      <td>2307</td>\n",
       "      <td>83</td>\n",
       "      <td>8</td>\n",
       "      <td>3</td>\n",
       "    </tr>\n",
       "    <tr>\n",
       "      <th>value_ratios</th>\n",
       "      <td>{'yes': 89.1, 'no': 10.9}</td>\n",
       "      <td>{'front': 64.4, 'rear': 21.5, 'front+rear': 14.1}</td>\n",
       "      <td>{'no': 74.6, 'yes': 25.0, 'mechanical': 0.5}</td>\n",
       "      <td>{'manual transmission': 83.7, 'automatic': 12.3, 'automatic with double clutch': 2.7, 'oze automatic': 1.0, 'semi-automatic': 0.3}</td>\n",
       "      <td>{'fuel engine': 98.8, 'hybrid': 1.2}</td>\n",
       "      <td>{'gasoline': 94.1, 'diesel': 5.8, 'gasoline / bio ethanol': 0.1, 'lpg / gasoline': 0.0}</td>\n",
       "      <td>{'g': 57.0, 'f': 9.3, 'e': 8.8, 'c': 8.0, 'd': 7.8, 'b': 6.7, 'a': 2.3}</td>\n",
       "      <td>{' hatchback': 25.9, ' sedan': 18.8, ' suv/crossover': 12.9, ' station wagon': 12.7, ' coupé': 9.6, ' convertible': 7.7, ' mpv': 7.1, ' van': 2.8, ' bus': 1.1, ' pick-up': 0.8, ' double cabin': 0.4}</td>\n",
       "      <td>{'c': 19.6, 'd': 15.9, 'b': 9.9, 'g': 9.7, 'e': 8.3, 'm': 7.6, 'l': 7.0, 'j': 6.0, 'a': 4.8, 'n': 4.1, 'h': 3.1, 'k': 1.8, 'f': 1.5, 'i': 0.6}</td>\n",
       "      <td>{'yes': 70.4, 'no': 29.6}</td>\n",
       "      <td>{'MAZDA 323 1 3 LX': 0.2, 'BMW 520I TOURING': 0.2, 'PORSCHE 911 CARRERA CABRIOLET': 0.2, 'BMW 520I': 0.2, 'BMW 116I': 0.2, 'PORSCHE 911 CARRERA COUPE': 0.2, 'SUZUKI SWIFT 1 2 COMFORT': 0.1, 'LEXUS...</td>\n",
       "      <td>{'TOYOTA': 5.8, 'AUDI': 5.6, 'OPEL': 5.0, 'FORD': 4.9, 'MERCEDES': 4.6, 'RENAULT': 4.5, 'VOLKSWAGEN': 4.3, 'NISSAN': 4.0, 'MAZDA': 3.6, 'BMW': 3.3, 'PEUGEOT': 3.2, 'CITROEN': 2.9, 'VOLVO': 2.8, 'H...</td>\n",
       "      <td>{'multipoint injection': 54.8, 'direct injection': 19.7, 'carburettor': 14.9, 'common rail': 5.0, 'singplepoint injection': 4.5, 'indirect injection': 0.4, 'injection': 0.4, 'multijet': 0.2}</td>\n",
       "      <td>{'dohc': 61.4, 'ohc': 33.9, 'ohv': 4.7}</td>\n",
       "    </tr>\n",
       "  </tbody>\n",
       "</table>\n",
       "</div>"
      ],
      "text/plain": [
       "                        Front Stabilizer  \\\n",
       "missing_ratio                          0   \n",
       "num_values                             2   \n",
       "value_ratios   {'yes': 89.1, 'no': 10.9}   \n",
       "\n",
       "                                                           Drive  \\\n",
       "missing_ratio                                                  0   \n",
       "num_values                                                     3   \n",
       "value_ratios   {'front': 64.4, 'rear': 21.5, 'front+rear': 14.1}   \n",
       "\n",
       "                                                      Turbo  \\\n",
       "missing_ratio                                             0   \n",
       "num_values                                                3   \n",
       "value_ratios   {'no': 74.6, 'yes': 25.0, 'mechanical': 0.5}   \n",
       "\n",
       "                                                                                                                                  Dt_Transmission  \\\n",
       "missing_ratio                                                                                                                                   0   \n",
       "num_values                                                                                                                                      5   \n",
       "value_ratios   {'manual transmission': 83.7, 'automatic': 12.3, 'automatic with double clutch': 2.7, 'oze automatic': 1.0, 'semi-automatic': 0.3}   \n",
       "\n",
       "                                       Drive System  \\\n",
       "missing_ratio                                     0   \n",
       "num_values                                        2   \n",
       "value_ratios   {'fuel engine': 98.8, 'hybrid': 1.2}   \n",
       "\n",
       "                                                                                                  Fuel  \\\n",
       "missing_ratio                                                                                        0   \n",
       "num_values                                                                                           4   \n",
       "value_ratios   {'gasoline': 94.1, 'diesel': 5.8, 'gasoline / bio ethanol': 0.1, 'lpg / gasoline': 0.0}   \n",
       "\n",
       "                                                                          Energy Label  \\\n",
       "missing_ratio                                                                     32.5   \n",
       "num_values                                                                           7   \n",
       "value_ratios   {'g': 57.0, 'f': 9.3, 'e': 8.8, 'c': 8.0, 'd': 7.8, 'b': 6.7, 'a': 2.3}   \n",
       "\n",
       "                                                                                                                                                                                                                 Body  \\\n",
       "missing_ratio                                                                                                                                                                                                       0   \n",
       "num_values                                                                                                                                                                                                         11   \n",
       "value_ratios   {' hatchback': 25.9, ' sedan': 18.8, ' suv/crossover': 12.9, ' station wagon': 12.7, ' coupé': 9.6, ' convertible': 7.7, ' mpv': 7.1, ' van': 2.8, ' bus': 1.1, ' pick-up': 0.8, ' double cabin': 0.4}   \n",
       "\n",
       "                                                                                                                                                      Segment  \\\n",
       "missing_ratio                                                                                                                                            13.1   \n",
       "num_values                                                                                                                                                 14   \n",
       "value_ratios   {'c': 19.6, 'd': 15.9, 'b': 9.9, 'g': 9.7, 'e': 8.3, 'm': 7.6, 'l': 7.0, 'j': 6.0, 'a': 4.8, 'n': 4.1, 'h': 3.1, 'k': 1.8, 'f': 1.5, 'i': 0.6}   \n",
       "\n",
       "                         Rear Stabilizer  \\\n",
       "missing_ratio                          0   \n",
       "num_values                             2   \n",
       "value_ratios   {'yes': 70.4, 'no': 29.6}   \n",
       "\n",
       "                                                                                                                                                                                                                  Name  \\\n",
       "missing_ratio                                                                                                                                                                                                        0   \n",
       "num_values                                                                                                                                                                                                        2307   \n",
       "value_ratios   {'MAZDA 323 1 3 LX': 0.2, 'BMW 520I TOURING': 0.2, 'PORSCHE 911 CARRERA CABRIOLET': 0.2, 'BMW 520I': 0.2, 'BMW 116I': 0.2, 'PORSCHE 911 CARRERA COUPE': 0.2, 'SUZUKI SWIFT 1 2 COMFORT': 0.1, 'LEXUS...   \n",
       "\n",
       "                                                                                                                                                                                                                 Brand  \\\n",
       "missing_ratio                                                                                                                                                                                                        0   \n",
       "num_values                                                                                                                                                                                                          83   \n",
       "value_ratios   {'TOYOTA': 5.8, 'AUDI': 5.6, 'OPEL': 5.0, 'FORD': 4.9, 'MERCEDES': 4.6, 'RENAULT': 4.5, 'VOLKSWAGEN': 4.3, 'NISSAN': 4.0, 'MAZDA': 3.6, 'BMW': 3.3, 'PEUGEOT': 3.2, 'CITROEN': 2.9, 'VOLVO': 2.8, 'H...   \n",
       "\n",
       "                                                                                                                                                                                                  Fuel System  \\\n",
       "missing_ratio                                                                                                                                                                                               0   \n",
       "num_values                                                                                                                                                                                                  8   \n",
       "value_ratios   {'multipoint injection': 54.8, 'direct injection': 19.7, 'carburettor': 14.9, 'common rail': 5.0, 'singplepoint injection': 4.5, 'indirect injection': 0.4, 'injection': 0.4, 'multijet': 0.2}   \n",
       "\n",
       "                                       Valve Actuation  \n",
       "missing_ratio                                        0  \n",
       "num_values                                           3  \n",
       "value_ratios   {'dohc': 61.4, 'ohc': 33.9, 'ohv': 4.7}  "
      ]
     },
     "execution_count": 21,
     "metadata": {},
     "output_type": "execute_result"
    }
   ],
   "source": [
    "pd.set_option('display.max_colwidth', 200) # Để nhìn rõ hơn\n",
    "cat_cols = list(set(train_X_df.columns) - set(num_cols))\n",
    "df = train_X_df[cat_cols]\n",
    "def missing_ratio(df):\n",
    "    return (df.isna().mean() * 100).round(1)\n",
    "def num_values(df):\n",
    "    return df.nunique()\n",
    "def value_ratios(c):\n",
    "    return dict((c.value_counts(normalize=True) * 100).round(1))\n",
    "df.agg([missing_ratio, num_values, value_ratios])"
   ]
  },
  {
   "cell_type": "markdown",
   "metadata": {
    "Collapsed": "false"
   },
   "source": [
    "---"
   ]
  },
  {
   "cell_type": "markdown",
   "metadata": {},
   "source": [
    "## Tiền xử lý (tập huấn luyện)"
   ]
  },
  {
   "cell_type": "markdown",
   "metadata": {
    "Collapsed": "false"
   },
   "source": [
    "Đầu tiên, ta sẽ xử lý một số cột như sau: \n",
    "- Bỏ cột \"Body\" và \"Segment\" vì có quá nhiều giá trị khác nhau.\n",
    "- Bỏ cột \"Energy Label\" vì có quá nhiều giá trị thiếu.\n",
    "- Ở cột \"Fuel System\" và \"Dt_Transmission\" ta sẽ lấy top các giá trị xuất hiện nhiều nhất.\n",
    "\n",
    "**Ngoại lệ:** Cột \"Brand\" có rất nhiều giá trị, nhưng các giá trị này có tỉ lệ xuất hiện gần như là ngang nhau và cột này cần thiết trong việc tính giá của xe ôtô nên ta sẽ giữ lại*"
   ]
  },
  {
   "cell_type": "code",
   "execution_count": 22,
   "metadata": {
    "Collapsed": "false",
    "deletable": false,
    "nbgrader": {
     "cell_type": "code",
     "checksum": "0dda65a5c2f1394f88a1e4ac11ac7d8d",
     "grade": false,
     "grade_id": "cell-c2cb62acb65582f6",
     "locked": false,
     "schema_version": 3,
     "solution": true,
     "task": false
    }
   },
   "outputs": [],
   "source": [
    "class ColAdderDropper(BaseEstimator, TransformerMixin):\n",
    "    def __init__(self, num_top_fuel_sys=1, num_top_transmission=1):\n",
    "        self.num_top_fuel_sys = num_top_fuel_sys\n",
    "        self.num_top_transmission = num_top_transmission\n",
    "    def fit(self, X_df, y=None):\n",
    "        # Fuel System\n",
    "        self.fuel_sys_counts_ = X_df['Fuel System'].value_counts()\n",
    "        fuel_sys = list(self.fuel_sys_counts_.index)\n",
    "        self.top_fuel_sys_ = fuel_sys[:max(1, min(self.num_top_fuel_sys, len(fuel_sys)))]\n",
    "        # Transmission\n",
    "        self.transmission_counts_ = X_df['Dt_Transmission'].value_counts()\n",
    "        transmission = list(self.transmission_counts_.index)\n",
    "        self.top_transmission_ = transmission[:max(1, min(self.num_top_transmission, len(transmission)))]\n",
    "        return self\n",
    "    def transform(self, X_df, y=None):\n",
    "        new_df = X_df\n",
    "        # Fuel System\n",
    "        fuel_sys_list = list(new_df['Fuel System'])\n",
    "        for i in range(len(fuel_sys_list)):\n",
    "            if fuel_sys_list[i] not in self.top_fuel_sys_:\n",
    "                fuel_sys_list[i] = 'others'\n",
    "        new_df['Fuel System'] = fuel_sys_list\n",
    "        # Transmission\n",
    "        transmission_list = list(new_df['Dt_Transmission'])\n",
    "        for i in range(len(transmission_list)):\n",
    "            if transmission_list[i] not in self.top_transmission_:\n",
    "                transmission_list[i] = 'others'\n",
    "        new_df['Dt_Transmission'] = transmission_list\n",
    "        new_df = new_df.drop(['Name', 'Energy Label', 'Segment', 'Body'], axis=1)\n",
    "        return new_df"
   ]
  },
  {
   "cell_type": "code",
   "execution_count": 23,
   "metadata": {},
   "outputs": [
    {
     "name": "stdout",
     "output_type": "stream",
     "text": [
      "['multipoint injection']\n",
      "\n",
      "multipoint injection      1490\n",
      "direct injection           536\n",
      "carburettor                406\n",
      "common rail                137\n",
      "singplepoint injection     121\n",
      "indirect injection          11\n",
      "injection                   11\n",
      "multijet                     5\n",
      "Name: Fuel System, dtype: int64\n",
      "\n",
      "['manual transmission']\n",
      "\n",
      "manual transmission             2273\n",
      "automatic                        335\n",
      "automatic with double clutch      73\n",
      "oze automatic                     28\n",
      "semi-automatic                     8\n",
      "Name: Dt_Transmission, dtype: int64\n"
     ]
    }
   ],
   "source": [
    "col_adderdropper = ColAdderDropper(num_top_fuel_sys=1, num_top_transmission=1)\n",
    "col_adderdropper.fit(train_X_df)\n",
    "print(col_adderdropper.top_fuel_sys_)\n",
    "print()\n",
    "print(col_adderdropper.fuel_sys_counts_)\n",
    "print()\n",
    "print(col_adderdropper.top_transmission_)\n",
    "print()\n",
    "print(col_adderdropper.transmission_counts_)"
   ]
  },
  {
   "cell_type": "code",
   "execution_count": 24,
   "metadata": {},
   "outputs": [
    {
     "name": "stderr",
     "output_type": "stream",
     "text": [
      "<ipython-input-22-01e992e7eaf9>:22: SettingWithCopyWarning: \n",
      "A value is trying to be set on a copy of a slice from a DataFrame.\n",
      "Try using .loc[row_indexer,col_indexer] = value instead\n",
      "\n",
      "See the caveats in the documentation: https://pandas.pydata.org/pandas-docs/stable/user_guide/indexing.html#returning-a-view-versus-a-copy\n",
      "  new_df['Fuel System'] = fuel_sys_list\n",
      "<ipython-input-22-01e992e7eaf9>:28: SettingWithCopyWarning: \n",
      "A value is trying to be set on a copy of a slice from a DataFrame.\n",
      "Try using .loc[row_indexer,col_indexer] = value instead\n",
      "\n",
      "See the caveats in the documentation: https://pandas.pydata.org/pandas-docs/stable/user_guide/indexing.html#returning-a-view-versus-a-copy\n",
      "  new_df['Dt_Transmission'] = transmission_list\n"
     ]
    },
    {
     "data": {
      "text/html": [
       "<div>\n",
       "<style scoped>\n",
       "    .dataframe tbody tr th:only-of-type {\n",
       "        vertical-align: middle;\n",
       "    }\n",
       "\n",
       "    .dataframe tbody tr th {\n",
       "        vertical-align: top;\n",
       "    }\n",
       "\n",
       "    .dataframe thead th {\n",
       "        text-align: right;\n",
       "    }\n",
       "</style>\n",
       "<table border=\"1\" class=\"dataframe\">\n",
       "  <thead>\n",
       "    <tr style=\"text-align: right;\">\n",
       "      <th></th>\n",
       "      <th>Brand</th>\n",
       "      <th>Transmission</th>\n",
       "      <th>Number Of Seats</th>\n",
       "      <th>Introduction</th>\n",
       "      <th>Drive</th>\n",
       "      <th>Drive System</th>\n",
       "      <th>Fuel</th>\n",
       "      <th>Cylinder Capacity</th>\n",
       "      <th>Max Power Hp</th>\n",
       "      <th>Max Torque</th>\n",
       "      <th>Fuel System</th>\n",
       "      <th>Valve Actuation</th>\n",
       "      <th>Turbo</th>\n",
       "      <th>Fuel Tank</th>\n",
       "      <th>Top Speed</th>\n",
       "      <th>Front Stabilizer</th>\n",
       "      <th>Rear Stabilizer</th>\n",
       "      <th>Num_doors</th>\n",
       "      <th>Dt_Transmission</th>\n",
       "    </tr>\n",
       "  </thead>\n",
       "  <tbody>\n",
       "    <tr>\n",
       "      <th>3915</th>\n",
       "      <td>DAIHATSU</td>\n",
       "      <td>5.0</td>\n",
       "      <td>5</td>\n",
       "      <td>1997</td>\n",
       "      <td>front+rear</td>\n",
       "      <td>fuel engine</td>\n",
       "      <td>gasoline</td>\n",
       "      <td>4.0</td>\n",
       "      <td>83.0</td>\n",
       "      <td>105.0</td>\n",
       "      <td>multipoint injection</td>\n",
       "      <td>ohc</td>\n",
       "      <td>no</td>\n",
       "      <td>46.0</td>\n",
       "      <td>145.0</td>\n",
       "      <td>yes</td>\n",
       "      <td>no</td>\n",
       "      <td>5</td>\n",
       "      <td>manual transmission</td>\n",
       "    </tr>\n",
       "    <tr>\n",
       "      <th>3057</th>\n",
       "      <td>MERCEDES</td>\n",
       "      <td>6.0</td>\n",
       "      <td>5</td>\n",
       "      <td>2001</td>\n",
       "      <td>rear</td>\n",
       "      <td>fuel engine</td>\n",
       "      <td>gasoline</td>\n",
       "      <td>4.0</td>\n",
       "      <td>129.0</td>\n",
       "      <td>185.0</td>\n",
       "      <td>multipoint injection</td>\n",
       "      <td>dohc</td>\n",
       "      <td>no</td>\n",
       "      <td>62.0</td>\n",
       "      <td>206.0</td>\n",
       "      <td>yes</td>\n",
       "      <td>yes</td>\n",
       "      <td>5</td>\n",
       "      <td>manual transmission</td>\n",
       "    </tr>\n",
       "    <tr>\n",
       "      <th>3708</th>\n",
       "      <td>HONDA</td>\n",
       "      <td>5.0</td>\n",
       "      <td>5</td>\n",
       "      <td>2003</td>\n",
       "      <td>front</td>\n",
       "      <td>fuel engine</td>\n",
       "      <td>gasoline</td>\n",
       "      <td>4.0</td>\n",
       "      <td>155.0</td>\n",
       "      <td>190.0</td>\n",
       "      <td>multipoint injection</td>\n",
       "      <td>dohc</td>\n",
       "      <td>no</td>\n",
       "      <td>65.0</td>\n",
       "      <td>205.0</td>\n",
       "      <td>yes</td>\n",
       "      <td>yes</td>\n",
       "      <td>5</td>\n",
       "      <td>manual transmission</td>\n",
       "    </tr>\n",
       "    <tr>\n",
       "      <th>1542</th>\n",
       "      <td>DATSUN</td>\n",
       "      <td>5.0</td>\n",
       "      <td>0</td>\n",
       "      <td>1979</td>\n",
       "      <td>rear</td>\n",
       "      <td>fuel engine</td>\n",
       "      <td>gasoline</td>\n",
       "      <td>2.0</td>\n",
       "      <td>113.0</td>\n",
       "      <td>175.0</td>\n",
       "      <td>others</td>\n",
       "      <td>ohc</td>\n",
       "      <td>no</td>\n",
       "      <td>60.0</td>\n",
       "      <td>170.0</td>\n",
       "      <td>yes</td>\n",
       "      <td>no</td>\n",
       "      <td>4</td>\n",
       "      <td>manual transmission</td>\n",
       "    </tr>\n",
       "    <tr>\n",
       "      <th>1573</th>\n",
       "      <td>AUDI</td>\n",
       "      <td>6.0</td>\n",
       "      <td>2</td>\n",
       "      <td>2012</td>\n",
       "      <td>front+rear</td>\n",
       "      <td>fuel engine</td>\n",
       "      <td>gasoline</td>\n",
       "      <td>4.0</td>\n",
       "      <td>430.0</td>\n",
       "      <td>430.0</td>\n",
       "      <td>others</td>\n",
       "      <td>dohc</td>\n",
       "      <td>no</td>\n",
       "      <td>80.0</td>\n",
       "      <td>300.0</td>\n",
       "      <td>yes</td>\n",
       "      <td>yes</td>\n",
       "      <td>2</td>\n",
       "      <td>manual transmission</td>\n",
       "    </tr>\n",
       "  </tbody>\n",
       "</table>\n",
       "</div>"
      ],
      "text/plain": [
       "         Brand  Transmission  Number Of Seats  Introduction       Drive  \\\n",
       "3915  DAIHATSU           5.0                5          1997  front+rear   \n",
       "3057  MERCEDES           6.0                5          2001        rear   \n",
       "3708     HONDA           5.0                5          2003       front   \n",
       "1542    DATSUN           5.0                0          1979        rear   \n",
       "1573      AUDI           6.0                2          2012  front+rear   \n",
       "\n",
       "     Drive System      Fuel  Cylinder Capacity  Max Power Hp  Max Torque  \\\n",
       "3915  fuel engine  gasoline                4.0          83.0       105.0   \n",
       "3057  fuel engine  gasoline                4.0         129.0       185.0   \n",
       "3708  fuel engine  gasoline                4.0         155.0       190.0   \n",
       "1542  fuel engine  gasoline                2.0         113.0       175.0   \n",
       "1573  fuel engine  gasoline                4.0         430.0       430.0   \n",
       "\n",
       "               Fuel System Valve Actuation Turbo  Fuel Tank  Top Speed  \\\n",
       "3915  multipoint injection             ohc    no       46.0      145.0   \n",
       "3057  multipoint injection            dohc    no       62.0      206.0   \n",
       "3708  multipoint injection            dohc    no       65.0      205.0   \n",
       "1542                others             ohc    no       60.0      170.0   \n",
       "1573                others            dohc    no       80.0      300.0   \n",
       "\n",
       "     Front Stabilizer Rear Stabilizer  Num_doors      Dt_Transmission  \n",
       "3915              yes              no          5  manual transmission  \n",
       "3057              yes             yes          5  manual transmission  \n",
       "3708              yes             yes          5  manual transmission  \n",
       "1542              yes              no          4  manual transmission  \n",
       "1573              yes             yes          2  manual transmission  "
      ]
     },
     "execution_count": 24,
     "metadata": {},
     "output_type": "execute_result"
    }
   ],
   "source": [
    "fewer_cols_train_X_df = col_adderdropper.transform(train_X_df)\n",
    "fewer_cols_train_X_df.head()"
   ]
  },
  {
   "cell_type": "markdown",
   "metadata": {
    "Collapsed": "false"
   },
   "source": [
    "Các bước tiền xử lý tiếp theo như sau:\n",
    "- Với các cột dạng số, ta sẽ điền giá trị thiếu bằng giá trị mean của cột <font color=gray>(gợi ý: dùng `SimpleImputer` trong Sklearn)</font>. Với *tất cả* các cột dạng số trong tập huấn luyện, ta đều cần tính mean, vì ta không biết được cột nào sẽ bị thiếu giá trị khi dự đoán với các véc-tơ input mới. \n",
    "- Với các cột không phải dạng số và không có thứ tự:\n",
    "    - Ta sẽ điền giá trị thiếu bằng giá trị mode (giá trị xuất hiện nhiều nhất) của cột <font color=gray>(gợi ý: dùng `SimpleImputer` trong Sklearn)</font>. Với *tất cả* các cột không có dạng số và không có thứ tự, ta đều cần tính mode, vì ta không biết được cột nào sẽ bị thiếu giá trị khi dự đoán với các véc-tơ input mới.\n",
    "    - Sau đó, ta sẽ chuyển sang dạng số bằng phương pháp mã hóa one-hot <font color=gray>(gợi ý: dùng `OneHotEncoder` trong Sklearn, để ý tham số `handle_unknown` vì khi dự đoán với các véc-tơ input mới ...)</font>.\n",
    "\n",
    "- Cuối cùng, khi tất cả các cột đã được điền giá trị thiếu và đã có dạng số, ta sẽ tiến hành chuẩn hóa bằng cách trừ đi mean và chia cho độ lệch chuẩn của cột để giúp cho các thuật toán cực tiểu hóa như Gradient Descent, LBFGS, ... hội tụ nhanh hơn <font color=gray>(gợi ý: dùng `StandardScaler` trong Sklearn)</font>.\n",
    "\n",
    "Nhiệm vụ của bạn là tạo ra một pipeline, đặt tên là `preprocess_pipeline`, bao gồm: các bước cài ở class `ColAdderDropper`, và tất cả các bước ở đây. Sau khi tạo ra được pipeline này rồi, bạn sẽ gọi phương thức `fit_transform` với đầu vào là `train_X_df` để tính các giá trị từ tập huấn luyện và đồng thời tiền xử lý `train_X_df`; kết quả trả về sẽ là `train_X_df` sau khi đã tiền xử lý, là một mảng Numpy, bạn đặt tên là `preprocessed_train_X`."
   ]
  },
  {
   "cell_type": "code",
   "execution_count": 25,
   "metadata": {
    "Collapsed": "false",
    "deletable": false,
    "nbgrader": {
     "cell_type": "code",
     "checksum": "e7a1d4ae5e4fa50b60b4998de6be96a1",
     "grade": false,
     "grade_id": "cell-ae75d7dfa7256c7f",
     "locked": false,
     "schema_version": 3,
     "solution": true
    }
   },
   "outputs": [
    {
     "name": "stderr",
     "output_type": "stream",
     "text": [
      "<ipython-input-22-01e992e7eaf9>:22: SettingWithCopyWarning: \n",
      "A value is trying to be set on a copy of a slice from a DataFrame.\n",
      "Try using .loc[row_indexer,col_indexer] = value instead\n",
      "\n",
      "See the caveats in the documentation: https://pandas.pydata.org/pandas-docs/stable/user_guide/indexing.html#returning-a-view-versus-a-copy\n",
      "  new_df['Fuel System'] = fuel_sys_list\n",
      "<ipython-input-22-01e992e7eaf9>:28: SettingWithCopyWarning: \n",
      "A value is trying to be set on a copy of a slice from a DataFrame.\n",
      "Try using .loc[row_indexer,col_indexer] = value instead\n",
      "\n",
      "See the caveats in the documentation: https://pandas.pydata.org/pandas-docs/stable/user_guide/indexing.html#returning-a-view-versus-a-copy\n",
      "  new_df['Dt_Transmission'] = transmission_list\n"
     ]
    }
   ],
   "source": [
    "# Tạo pipepline xử lí\n",
    "nume_cols = ['Transmission', 'Number Of Seats', 'Introduction', 'Cylinder Capacity', 'Max Power Hp', \n",
    "            'Max Torque', 'Fuel Tank', 'Top Speed', 'Num_doors']\n",
    "unorder_cate_cols = list(set(fewer_cols_train_X_df.columns) - set(nume_cols))\n",
    "# Column transformer\n",
    "col_trans = make_column_transformer((SimpleImputer(missing_values=np.nan, strategy='mean'), nume_cols), \n",
    "                                    (make_pipeline(SimpleImputer(missing_values=np.nan, strategy='most_frequent'), \n",
    "                                                   OneHotEncoder(handle_unknown=\"ignore\")), unorder_cate_cols))\n",
    "# Preprocess pipeline\n",
    "preprocess_pipeline = make_pipeline(ColAdderDropper(num_top_fuel_sys=3, num_top_transmission=2), \n",
    "                                    col_trans, StandardScaler(with_mean=False))\n",
    "\n",
    "preprocessed_train_X = preprocess_pipeline.fit_transform(train_X_df)"
   ]
  },
  {
   "cell_type": "code",
   "execution_count": 26,
   "metadata": {},
   "outputs": [
    {
     "data": {
      "text/html": [
       "<style>div.sk-top-container {color: black;background-color: white;}div.sk-toggleable {background-color: white;}label.sk-toggleable__label {cursor: pointer;display: block;width: 100%;margin-bottom: 0;padding: 0.2em 0.3em;box-sizing: border-box;text-align: center;}div.sk-toggleable__content {max-height: 0;max-width: 0;overflow: hidden;text-align: left;background-color: #f0f8ff;}div.sk-toggleable__content pre {margin: 0.2em;color: black;border-radius: 0.25em;background-color: #f0f8ff;}input.sk-toggleable__control:checked~div.sk-toggleable__content {max-height: 200px;max-width: 100%;overflow: auto;}div.sk-estimator input.sk-toggleable__control:checked~label.sk-toggleable__label {background-color: #d4ebff;}div.sk-label input.sk-toggleable__control:checked~label.sk-toggleable__label {background-color: #d4ebff;}input.sk-hidden--visually {border: 0;clip: rect(1px 1px 1px 1px);clip: rect(1px, 1px, 1px, 1px);height: 1px;margin: -1px;overflow: hidden;padding: 0;position: absolute;width: 1px;}div.sk-estimator {font-family: monospace;background-color: #f0f8ff;margin: 0.25em 0.25em;border: 1px dotted black;border-radius: 0.25em;box-sizing: border-box;}div.sk-estimator:hover {background-color: #d4ebff;}div.sk-parallel-item::after {content: \"\";width: 100%;border-bottom: 1px solid gray;flex-grow: 1;}div.sk-label:hover label.sk-toggleable__label {background-color: #d4ebff;}div.sk-serial::before {content: \"\";position: absolute;border-left: 1px solid gray;box-sizing: border-box;top: 2em;bottom: 0;left: 50%;}div.sk-serial {display: flex;flex-direction: column;align-items: center;background-color: white;}div.sk-item {z-index: 1;}div.sk-parallel {display: flex;align-items: stretch;justify-content: center;background-color: white;}div.sk-parallel-item {display: flex;flex-direction: column;position: relative;background-color: white;}div.sk-parallel-item:first-child::after {align-self: flex-end;width: 50%;}div.sk-parallel-item:last-child::after {align-self: flex-start;width: 50%;}div.sk-parallel-item:only-child::after {width: 0;}div.sk-dashed-wrapped {border: 1px dashed gray;margin: 0.2em;box-sizing: border-box;padding-bottom: 0.1em;background-color: white;position: relative;}div.sk-label label {font-family: monospace;font-weight: bold;background-color: white;display: inline-block;line-height: 1.2em;}div.sk-label-container {position: relative;z-index: 2;text-align: center;}div.sk-container {display: inline-block;position: relative;}</style><div class=\"sk-top-container\"><div class=\"sk-container\"><div class=\"sk-item sk-dashed-wrapped\"><div class=\"sk-label-container\"><div class=\"sk-label sk-toggleable\"><input class=\"sk-toggleable__control sk-hidden--visually\" id=\"9e182c45-aa1a-4c52-adb4-5c377553066a\" type=\"checkbox\" ><label class=\"sk-toggleable__label\" for=\"9e182c45-aa1a-4c52-adb4-5c377553066a\">Pipeline</label><div class=\"sk-toggleable__content\"><pre>Pipeline(steps=[('coladderdropper',\n",
       "                 ColAdderDropper(num_top_fuel_sys=3, num_top_transmission=2)),\n",
       "                ('columntransformer',\n",
       "                 ColumnTransformer(transformers=[('simpleimputer',\n",
       "                                                  SimpleImputer(),\n",
       "                                                  ['Transmission',\n",
       "                                                   'Number Of Seats',\n",
       "                                                   'Introduction',\n",
       "                                                   'Cylinder Capacity',\n",
       "                                                   'Max Power Hp', 'Max Torque',\n",
       "                                                   'Fuel Tank', 'Top Speed',\n",
       "                                                   'Num_doors']),\n",
       "                                                 ('pipeline',\n",
       "                                                  Pipeline(steps=[('simpleimputer',\n",
       "                                                                   SimpleImputer(strategy='most_frequent')),\n",
       "                                                                  ('onehotencoder',\n",
       "                                                                   OneHotEncoder(handle_unknown='ignore'))]),\n",
       "                                                  ['Front Stabilizer', 'Drive',\n",
       "                                                   'Turbo', 'Dt_Transmission',\n",
       "                                                   'Drive System', 'Fuel',\n",
       "                                                   'Rear Stabilizer', 'Brand',\n",
       "                                                   'Fuel System',\n",
       "                                                   'Valve Actuation'])])),\n",
       "                ('standardscaler', StandardScaler(with_mean=False))])</pre></div></div></div><div class=\"sk-serial\"><div class=\"sk-item\"><div class=\"sk-estimator sk-toggleable\"><input class=\"sk-toggleable__control sk-hidden--visually\" id=\"5da8f26e-2c6e-44b5-98b0-d2caa3b9db75\" type=\"checkbox\" ><label class=\"sk-toggleable__label\" for=\"5da8f26e-2c6e-44b5-98b0-d2caa3b9db75\">ColAdderDropper</label><div class=\"sk-toggleable__content\"><pre>ColAdderDropper(num_top_fuel_sys=3, num_top_transmission=2)</pre></div></div></div><div class=\"sk-item sk-dashed-wrapped\"><div class=\"sk-label-container\"><div class=\"sk-label sk-toggleable\"><input class=\"sk-toggleable__control sk-hidden--visually\" id=\"b37ddd91-0540-4a70-9035-39e423964d09\" type=\"checkbox\" ><label class=\"sk-toggleable__label\" for=\"b37ddd91-0540-4a70-9035-39e423964d09\">columntransformer: ColumnTransformer</label><div class=\"sk-toggleable__content\"><pre>ColumnTransformer(transformers=[('simpleimputer', SimpleImputer(),\n",
       "                                 ['Transmission', 'Number Of Seats',\n",
       "                                  'Introduction', 'Cylinder Capacity',\n",
       "                                  'Max Power Hp', 'Max Torque', 'Fuel Tank',\n",
       "                                  'Top Speed', 'Num_doors']),\n",
       "                                ('pipeline',\n",
       "                                 Pipeline(steps=[('simpleimputer',\n",
       "                                                  SimpleImputer(strategy='most_frequent')),\n",
       "                                                 ('onehotencoder',\n",
       "                                                  OneHotEncoder(handle_unknown='ignore'))]),\n",
       "                                 ['Front Stabilizer', 'Drive', 'Turbo',\n",
       "                                  'Dt_Transmission', 'Drive System', 'Fuel',\n",
       "                                  'Rear Stabilizer', 'Brand', 'Fuel System',\n",
       "                                  'Valve Actuation'])])</pre></div></div></div><div class=\"sk-parallel\"><div class=\"sk-parallel-item\"><div class=\"sk-item\"><div class=\"sk-label-container\"><div class=\"sk-label sk-toggleable\"><input class=\"sk-toggleable__control sk-hidden--visually\" id=\"2a787880-9991-459b-9b5e-4a1dc081c7e8\" type=\"checkbox\" ><label class=\"sk-toggleable__label\" for=\"2a787880-9991-459b-9b5e-4a1dc081c7e8\">simpleimputer</label><div class=\"sk-toggleable__content\"><pre>['Transmission', 'Number Of Seats', 'Introduction', 'Cylinder Capacity', 'Max Power Hp', 'Max Torque', 'Fuel Tank', 'Top Speed', 'Num_doors']</pre></div></div></div><div class=\"sk-serial\"><div class=\"sk-item\"><div class=\"sk-estimator sk-toggleable\"><input class=\"sk-toggleable__control sk-hidden--visually\" id=\"31fda5b2-abd5-428e-afb5-eeabc82a3de2\" type=\"checkbox\" ><label class=\"sk-toggleable__label\" for=\"31fda5b2-abd5-428e-afb5-eeabc82a3de2\">SimpleImputer</label><div class=\"sk-toggleable__content\"><pre>SimpleImputer()</pre></div></div></div></div></div></div><div class=\"sk-parallel-item\"><div class=\"sk-item\"><div class=\"sk-label-container\"><div class=\"sk-label sk-toggleable\"><input class=\"sk-toggleable__control sk-hidden--visually\" id=\"0652d2ff-5a51-477a-aab2-84d6bcb619db\" type=\"checkbox\" ><label class=\"sk-toggleable__label\" for=\"0652d2ff-5a51-477a-aab2-84d6bcb619db\">pipeline</label><div class=\"sk-toggleable__content\"><pre>['Front Stabilizer', 'Drive', 'Turbo', 'Dt_Transmission', 'Drive System', 'Fuel', 'Rear Stabilizer', 'Brand', 'Fuel System', 'Valve Actuation']</pre></div></div></div><div class=\"sk-serial\"><div class=\"sk-item\"><div class=\"sk-serial\"><div class=\"sk-item\"><div class=\"sk-estimator sk-toggleable\"><input class=\"sk-toggleable__control sk-hidden--visually\" id=\"32340301-9892-480c-b1ff-6cd43842c869\" type=\"checkbox\" ><label class=\"sk-toggleable__label\" for=\"32340301-9892-480c-b1ff-6cd43842c869\">SimpleImputer</label><div class=\"sk-toggleable__content\"><pre>SimpleImputer(strategy='most_frequent')</pre></div></div></div><div class=\"sk-item\"><div class=\"sk-estimator sk-toggleable\"><input class=\"sk-toggleable__control sk-hidden--visually\" id=\"a72898fc-d890-4a70-bdef-26b053e96529\" type=\"checkbox\" ><label class=\"sk-toggleable__label\" for=\"a72898fc-d890-4a70-bdef-26b053e96529\">OneHotEncoder</label><div class=\"sk-toggleable__content\"><pre>OneHotEncoder(handle_unknown='ignore')</pre></div></div></div></div></div></div></div></div></div></div><div class=\"sk-item\"><div class=\"sk-estimator sk-toggleable\"><input class=\"sk-toggleable__control sk-hidden--visually\" id=\"db851283-f98a-4116-b305-d36a67538dfc\" type=\"checkbox\" ><label class=\"sk-toggleable__label\" for=\"db851283-f98a-4116-b305-d36a67538dfc\">StandardScaler</label><div class=\"sk-toggleable__content\"><pre>StandardScaler(with_mean=False)</pre></div></div></div></div></div></div></div>"
      ],
      "text/plain": [
       "Pipeline(steps=[('coladderdropper',\n",
       "                 ColAdderDropper(num_top_fuel_sys=3, num_top_transmission=2)),\n",
       "                ('columntransformer',\n",
       "                 ColumnTransformer(transformers=[('simpleimputer',\n",
       "                                                  SimpleImputer(),\n",
       "                                                  ['Transmission',\n",
       "                                                   'Number Of Seats',\n",
       "                                                   'Introduction',\n",
       "                                                   'Cylinder Capacity',\n",
       "                                                   'Max Power Hp', 'Max Torque',\n",
       "                                                   'Fuel Tank', 'Top Speed',\n",
       "                                                   'Num_doors']),\n",
       "                                                 ('pipeline',\n",
       "                                                  Pipeline(steps=[('simpleimputer',\n",
       "                                                                   SimpleImputer(strategy='most_frequent')),\n",
       "                                                                  ('onehotencoder',\n",
       "                                                                   OneHotEncoder(handle_unknown='ignore'))]),\n",
       "                                                  ['Front Stabilizer', 'Drive',\n",
       "                                                   'Turbo', 'Dt_Transmission',\n",
       "                                                   'Drive System', 'Fuel',\n",
       "                                                   'Rear Stabilizer', 'Brand',\n",
       "                                                   'Fuel System',\n",
       "                                                   'Valve Actuation'])])),\n",
       "                ('standardscaler', StandardScaler(with_mean=False))])"
      ]
     },
     "execution_count": 26,
     "metadata": {},
     "output_type": "execute_result"
    }
   ],
   "source": [
    "preprocess_pipeline"
   ]
  },
  {
   "cell_type": "markdown",
   "metadata": {
    "Collapsed": "false"
   },
   "source": [
    "## Tiền xử lý (tập validation) (1.5đ)"
   ]
  },
  {
   "cell_type": "markdown",
   "metadata": {
    "Collapsed": "false"
   },
   "source": [
    "Một khi đã có `preprocess_pipeline` với các giá trị đã được tính từ tập huấn luyện, ta có thể dễ dàng dùng phương thức `transform` để tiền xử lý cho các véc-tơ input mới trong tập validation và tập kiểm tra. Dưới đây, bạn sẽ làm như vậy để tiền xử lý cho `val_X_df` và lưu kết quả vào `preprocessed_val_X`."
   ]
  },
  {
   "cell_type": "code",
   "execution_count": 27,
   "metadata": {
    "Collapsed": "false",
    "deletable": false,
    "nbgrader": {
     "cell_type": "code",
     "checksum": "986f547abfe534258eb2c41f692c1084",
     "grade": false,
     "grade_id": "cell-5b00ff693785976e",
     "locked": false,
     "schema_version": 3,
     "solution": true
    }
   },
   "outputs": [
    {
     "name": "stderr",
     "output_type": "stream",
     "text": [
      "<ipython-input-22-01e992e7eaf9>:22: SettingWithCopyWarning: \n",
      "A value is trying to be set on a copy of a slice from a DataFrame.\n",
      "Try using .loc[row_indexer,col_indexer] = value instead\n",
      "\n",
      "See the caveats in the documentation: https://pandas.pydata.org/pandas-docs/stable/user_guide/indexing.html#returning-a-view-versus-a-copy\n",
      "  new_df['Fuel System'] = fuel_sys_list\n",
      "<ipython-input-22-01e992e7eaf9>:28: SettingWithCopyWarning: \n",
      "A value is trying to be set on a copy of a slice from a DataFrame.\n",
      "Try using .loc[row_indexer,col_indexer] = value instead\n",
      "\n",
      "See the caveats in the documentation: https://pandas.pydata.org/pandas-docs/stable/user_guide/indexing.html#returning-a-view-versus-a-copy\n",
      "  new_df['Dt_Transmission'] = transmission_list\n"
     ]
    }
   ],
   "source": [
    "preprocessed_val_X = preprocess_pipeline.transform(val_X_df)"
   ]
  },
  {
   "cell_type": "markdown",
   "metadata": {
    "Collapsed": "false"
   },
   "source": [
    "---"
   ]
  },
  {
   "cell_type": "markdown",
   "metadata": {
    "Collapsed": "false"
   },
   "source": [
    "## Tiền xử lý + mô hình hóa"
   ]
  },
  {
   "cell_type": "markdown",
   "metadata": {},
   "source": [
    "### Tìm mô hình tốt nhất "
   ]
  },
  {
   "cell_type": "markdown",
   "metadata": {
    "Collapsed": "false"
   },
   "source": [
    "Ta sẽ sử dụng mô hình Neural Net để phân lớp. Bạn sẽ tạo ra một pipeline từ đầu đến cuối bao gồm: các bước tiền xử lý ở trên + Neural Net (với các siêu tham số `hidden_layer_sizes=(30), activation='relu', solver='adam', random_state=0, max_iter=2500`). Đặt tên cho pipeline này là `full_pipeline`. "
   ]
  },
  {
   "cell_type": "code",
   "execution_count": 28,
   "metadata": {
    "Collapsed": "false",
    "deletable": false,
    "nbgrader": {
     "cell_type": "code",
     "checksum": "bb0c3953788eff39e4c9c0cd5c2dcde6",
     "grade": false,
     "grade_id": "cell-fdd12a79fb590313",
     "locked": false,
     "schema_version": 3,
     "solution": true,
     "task": false
    }
   },
   "outputs": [
    {
     "name": "stderr",
     "output_type": "stream",
     "text": [
      "<ipython-input-22-01e992e7eaf9>:22: SettingWithCopyWarning: \n",
      "A value is trying to be set on a copy of a slice from a DataFrame.\n",
      "Try using .loc[row_indexer,col_indexer] = value instead\n",
      "\n",
      "See the caveats in the documentation: https://pandas.pydata.org/pandas-docs/stable/user_guide/indexing.html#returning-a-view-versus-a-copy\n",
      "  new_df['Fuel System'] = fuel_sys_list\n",
      "<ipython-input-22-01e992e7eaf9>:28: SettingWithCopyWarning: \n",
      "A value is trying to be set on a copy of a slice from a DataFrame.\n",
      "Try using .loc[row_indexer,col_indexer] = value instead\n",
      "\n",
      "See the caveats in the documentation: https://pandas.pydata.org/pandas-docs/stable/user_guide/indexing.html#returning-a-view-versus-a-copy\n",
      "  new_df['Dt_Transmission'] = transmission_list\n",
      "D:\\Downloads\\anaconda\\lib\\site-packages\\sklearn\\neural_network\\_multilayer_perceptron.py:582: ConvergenceWarning: Stochastic Optimizer: Maximum iterations (2500) reached and the optimization hasn't converged yet.\n",
      "  warnings.warn(\n",
      "<ipython-input-22-01e992e7eaf9>:22: SettingWithCopyWarning: \n",
      "A value is trying to be set on a copy of a slice from a DataFrame.\n",
      "Try using .loc[row_indexer,col_indexer] = value instead\n",
      "\n",
      "See the caveats in the documentation: https://pandas.pydata.org/pandas-docs/stable/user_guide/indexing.html#returning-a-view-versus-a-copy\n",
      "  new_df['Fuel System'] = fuel_sys_list\n",
      "<ipython-input-22-01e992e7eaf9>:28: SettingWithCopyWarning: \n",
      "A value is trying to be set on a copy of a slice from a DataFrame.\n",
      "Try using .loc[row_indexer,col_indexer] = value instead\n",
      "\n",
      "See the caveats in the documentation: https://pandas.pydata.org/pandas-docs/stable/user_guide/indexing.html#returning-a-view-versus-a-copy\n",
      "  new_df['Dt_Transmission'] = transmission_list\n",
      "<ipython-input-22-01e992e7eaf9>:22: SettingWithCopyWarning: \n",
      "A value is trying to be set on a copy of a slice from a DataFrame.\n",
      "Try using .loc[row_indexer,col_indexer] = value instead\n",
      "\n",
      "See the caveats in the documentation: https://pandas.pydata.org/pandas-docs/stable/user_guide/indexing.html#returning-a-view-versus-a-copy\n",
      "  new_df['Fuel System'] = fuel_sys_list\n",
      "<ipython-input-22-01e992e7eaf9>:28: SettingWithCopyWarning: \n",
      "A value is trying to be set on a copy of a slice from a DataFrame.\n",
      "Try using .loc[row_indexer,col_indexer] = value instead\n",
      "\n",
      "See the caveats in the documentation: https://pandas.pydata.org/pandas-docs/stable/user_guide/indexing.html#returning-a-view-versus-a-copy\n",
      "  new_df['Dt_Transmission'] = transmission_list\n"
     ]
    },
    {
     "data": {
      "text/plain": [
       "'Finish!'"
      ]
     },
     "execution_count": 28,
     "metadata": {},
     "output_type": "execute_result"
    }
   ],
   "source": [
    "# Tạo full pipeline\n",
    "# Train mô hình và chọn siêu tham số\n",
    "# Tạo full pipeline\n",
    "nume_cols = ['Number Of Seats', 'Introduction', 'Cylinder Capacity', 'Max Power Hp', 'Max Torque', 'Fuel Tank', 'Top Speed', 'Combined Consumption']\n",
    "unorder_cate_cols = list(set(train_X_df.columns) - set(nume_cols))\n",
    "# YOUR CODE HERE\n",
    "cd = ColAdderDropper(num_top_fuel_sys=3, num_top_transmission=2)\n",
    "full_pipeline = make_pipeline(cd, col_trans, StandardScaler(with_mean=False), \n",
    "                              MLPRegressor(hidden_layer_sizes=(30), activation='relu', solver='adam', random_state=0, max_iter=2500))\n",
    "\n",
    "# Thử nghiệm với các giá trị khác nhau của các siêu tham số\n",
    "# và chọn ra các giá trị tốt nhất\n",
    "train_errs = []\n",
    "val_errs = []\n",
    "alphas = [1000]\n",
    "num_top_titles_s = [1, 3, 5, 7, 9, 11]\n",
    "best_val_err = float('inf'); best_alpha = None; best_num_top_titles = None\n",
    "for alpha in alphas:\n",
    "    # YOUR CODE HERE\n",
    "    full_pipeline.set_params(mlpregressor__alpha=alpha)\n",
    "    full_pipeline.fit(train_X_df, train_y_sr)\n",
    "\n",
    "    train_err = (1 - full_pipeline.score(train_X_df, train_y_sr))*100\n",
    "    val_err = (1 - full_pipeline.score(val_X_df, val_y_sr))*100\n",
    "    #val_err = (1 - compute_rr(val_y_sr, full_pipeline.predict(val_X_df), baseline_preds))*100\n",
    "    train_errs.append(train_err)\n",
    "    val_errs.append(val_err)\n",
    "\n",
    "    if val_err < best_val_err:\n",
    "        best_val_err = val_err\n",
    "        best_alpha = alpha\n",
    "'Finish!'"
   ]
  },
  {
   "cell_type": "code",
   "execution_count": 29,
   "metadata": {},
   "outputs": [
    {
     "data": {
      "text/html": [
       "<style>div.sk-top-container {color: black;background-color: white;}div.sk-toggleable {background-color: white;}label.sk-toggleable__label {cursor: pointer;display: block;width: 100%;margin-bottom: 0;padding: 0.2em 0.3em;box-sizing: border-box;text-align: center;}div.sk-toggleable__content {max-height: 0;max-width: 0;overflow: hidden;text-align: left;background-color: #f0f8ff;}div.sk-toggleable__content pre {margin: 0.2em;color: black;border-radius: 0.25em;background-color: #f0f8ff;}input.sk-toggleable__control:checked~div.sk-toggleable__content {max-height: 200px;max-width: 100%;overflow: auto;}div.sk-estimator input.sk-toggleable__control:checked~label.sk-toggleable__label {background-color: #d4ebff;}div.sk-label input.sk-toggleable__control:checked~label.sk-toggleable__label {background-color: #d4ebff;}input.sk-hidden--visually {border: 0;clip: rect(1px 1px 1px 1px);clip: rect(1px, 1px, 1px, 1px);height: 1px;margin: -1px;overflow: hidden;padding: 0;position: absolute;width: 1px;}div.sk-estimator {font-family: monospace;background-color: #f0f8ff;margin: 0.25em 0.25em;border: 1px dotted black;border-radius: 0.25em;box-sizing: border-box;}div.sk-estimator:hover {background-color: #d4ebff;}div.sk-parallel-item::after {content: \"\";width: 100%;border-bottom: 1px solid gray;flex-grow: 1;}div.sk-label:hover label.sk-toggleable__label {background-color: #d4ebff;}div.sk-serial::before {content: \"\";position: absolute;border-left: 1px solid gray;box-sizing: border-box;top: 2em;bottom: 0;left: 50%;}div.sk-serial {display: flex;flex-direction: column;align-items: center;background-color: white;}div.sk-item {z-index: 1;}div.sk-parallel {display: flex;align-items: stretch;justify-content: center;background-color: white;}div.sk-parallel-item {display: flex;flex-direction: column;position: relative;background-color: white;}div.sk-parallel-item:first-child::after {align-self: flex-end;width: 50%;}div.sk-parallel-item:last-child::after {align-self: flex-start;width: 50%;}div.sk-parallel-item:only-child::after {width: 0;}div.sk-dashed-wrapped {border: 1px dashed gray;margin: 0.2em;box-sizing: border-box;padding-bottom: 0.1em;background-color: white;position: relative;}div.sk-label label {font-family: monospace;font-weight: bold;background-color: white;display: inline-block;line-height: 1.2em;}div.sk-label-container {position: relative;z-index: 2;text-align: center;}div.sk-container {display: inline-block;position: relative;}</style><div class=\"sk-top-container\"><div class=\"sk-container\"><div class=\"sk-item sk-dashed-wrapped\"><div class=\"sk-label-container\"><div class=\"sk-label sk-toggleable\"><input class=\"sk-toggleable__control sk-hidden--visually\" id=\"cc520926-b21a-4efb-b4a6-92c4ebe6fa8a\" type=\"checkbox\" ><label class=\"sk-toggleable__label\" for=\"cc520926-b21a-4efb-b4a6-92c4ebe6fa8a\">Pipeline</label><div class=\"sk-toggleable__content\"><pre>Pipeline(steps=[('coladderdropper',\n",
       "                 ColAdderDropper(num_top_fuel_sys=3, num_top_transmission=2)),\n",
       "                ('columntransformer',\n",
       "                 ColumnTransformer(transformers=[('simpleimputer',\n",
       "                                                  SimpleImputer(),\n",
       "                                                  ['Transmission',\n",
       "                                                   'Number Of Seats',\n",
       "                                                   'Introduction',\n",
       "                                                   'Cylinder Capacity',\n",
       "                                                   'Max Power Hp', 'Max Torque',\n",
       "                                                   'Fuel Tank', 'Top Speed',\n",
       "                                                   'Num_doors']),\n",
       "                                                 ('pipeline',\n",
       "                                                  Pipeline(steps=[('simpleimputer',\n",
       "                                                                   SimpleImputer(strategy='most_frequent')),\n",
       "                                                                  ('onehotencoder',\n",
       "                                                                   OneHotEncoder(handle_unknown='ignore'))]),\n",
       "                                                  ['Front Stabilizer', 'Drive',\n",
       "                                                   'Turbo', 'Dt_Transmission',\n",
       "                                                   'Drive System', 'Fuel',\n",
       "                                                   'Rear Stabilizer', 'Brand',\n",
       "                                                   'Fuel System',\n",
       "                                                   'Valve Actuation'])])),\n",
       "                ('standardscaler', StandardScaler(with_mean=False)),\n",
       "                ('mlpregressor',\n",
       "                 MLPRegressor(alpha=1000, hidden_layer_sizes=30, max_iter=2500,\n",
       "                              random_state=0))])</pre></div></div></div><div class=\"sk-serial\"><div class=\"sk-item\"><div class=\"sk-estimator sk-toggleable\"><input class=\"sk-toggleable__control sk-hidden--visually\" id=\"c4f9aebe-ad24-4592-80ff-f968ef16ef74\" type=\"checkbox\" ><label class=\"sk-toggleable__label\" for=\"c4f9aebe-ad24-4592-80ff-f968ef16ef74\">ColAdderDropper</label><div class=\"sk-toggleable__content\"><pre>ColAdderDropper(num_top_fuel_sys=3, num_top_transmission=2)</pre></div></div></div><div class=\"sk-item sk-dashed-wrapped\"><div class=\"sk-label-container\"><div class=\"sk-label sk-toggleable\"><input class=\"sk-toggleable__control sk-hidden--visually\" id=\"f27cd896-3d6f-4b42-93c3-18071ffbc1ba\" type=\"checkbox\" ><label class=\"sk-toggleable__label\" for=\"f27cd896-3d6f-4b42-93c3-18071ffbc1ba\">columntransformer: ColumnTransformer</label><div class=\"sk-toggleable__content\"><pre>ColumnTransformer(transformers=[('simpleimputer', SimpleImputer(),\n",
       "                                 ['Transmission', 'Number Of Seats',\n",
       "                                  'Introduction', 'Cylinder Capacity',\n",
       "                                  'Max Power Hp', 'Max Torque', 'Fuel Tank',\n",
       "                                  'Top Speed', 'Num_doors']),\n",
       "                                ('pipeline',\n",
       "                                 Pipeline(steps=[('simpleimputer',\n",
       "                                                  SimpleImputer(strategy='most_frequent')),\n",
       "                                                 ('onehotencoder',\n",
       "                                                  OneHotEncoder(handle_unknown='ignore'))]),\n",
       "                                 ['Front Stabilizer', 'Drive', 'Turbo',\n",
       "                                  'Dt_Transmission', 'Drive System', 'Fuel',\n",
       "                                  'Rear Stabilizer', 'Brand', 'Fuel System',\n",
       "                                  'Valve Actuation'])])</pre></div></div></div><div class=\"sk-parallel\"><div class=\"sk-parallel-item\"><div class=\"sk-item\"><div class=\"sk-label-container\"><div class=\"sk-label sk-toggleable\"><input class=\"sk-toggleable__control sk-hidden--visually\" id=\"1fbbbfac-4267-494a-a4b6-4cd1d0e47ad7\" type=\"checkbox\" ><label class=\"sk-toggleable__label\" for=\"1fbbbfac-4267-494a-a4b6-4cd1d0e47ad7\">simpleimputer</label><div class=\"sk-toggleable__content\"><pre>['Transmission', 'Number Of Seats', 'Introduction', 'Cylinder Capacity', 'Max Power Hp', 'Max Torque', 'Fuel Tank', 'Top Speed', 'Num_doors']</pre></div></div></div><div class=\"sk-serial\"><div class=\"sk-item\"><div class=\"sk-estimator sk-toggleable\"><input class=\"sk-toggleable__control sk-hidden--visually\" id=\"c3cb5387-70c5-4401-a406-3010f6d8b2f0\" type=\"checkbox\" ><label class=\"sk-toggleable__label\" for=\"c3cb5387-70c5-4401-a406-3010f6d8b2f0\">SimpleImputer</label><div class=\"sk-toggleable__content\"><pre>SimpleImputer()</pre></div></div></div></div></div></div><div class=\"sk-parallel-item\"><div class=\"sk-item\"><div class=\"sk-label-container\"><div class=\"sk-label sk-toggleable\"><input class=\"sk-toggleable__control sk-hidden--visually\" id=\"2ecf0d69-7542-462d-8455-70d48ddd2db3\" type=\"checkbox\" ><label class=\"sk-toggleable__label\" for=\"2ecf0d69-7542-462d-8455-70d48ddd2db3\">pipeline</label><div class=\"sk-toggleable__content\"><pre>['Front Stabilizer', 'Drive', 'Turbo', 'Dt_Transmission', 'Drive System', 'Fuel', 'Rear Stabilizer', 'Brand', 'Fuel System', 'Valve Actuation']</pre></div></div></div><div class=\"sk-serial\"><div class=\"sk-item\"><div class=\"sk-serial\"><div class=\"sk-item\"><div class=\"sk-estimator sk-toggleable\"><input class=\"sk-toggleable__control sk-hidden--visually\" id=\"2adbe589-8884-4cc5-aec8-a7408f629159\" type=\"checkbox\" ><label class=\"sk-toggleable__label\" for=\"2adbe589-8884-4cc5-aec8-a7408f629159\">SimpleImputer</label><div class=\"sk-toggleable__content\"><pre>SimpleImputer(strategy='most_frequent')</pre></div></div></div><div class=\"sk-item\"><div class=\"sk-estimator sk-toggleable\"><input class=\"sk-toggleable__control sk-hidden--visually\" id=\"1fb22e18-b680-4cf9-9f18-1dbed271ffac\" type=\"checkbox\" ><label class=\"sk-toggleable__label\" for=\"1fb22e18-b680-4cf9-9f18-1dbed271ffac\">OneHotEncoder</label><div class=\"sk-toggleable__content\"><pre>OneHotEncoder(handle_unknown='ignore')</pre></div></div></div></div></div></div></div></div></div></div><div class=\"sk-item\"><div class=\"sk-estimator sk-toggleable\"><input class=\"sk-toggleable__control sk-hidden--visually\" id=\"c5221ff1-48ef-4922-b1e6-91de741de77b\" type=\"checkbox\" ><label class=\"sk-toggleable__label\" for=\"c5221ff1-48ef-4922-b1e6-91de741de77b\">StandardScaler</label><div class=\"sk-toggleable__content\"><pre>StandardScaler(with_mean=False)</pre></div></div></div><div class=\"sk-item\"><div class=\"sk-estimator sk-toggleable\"><input class=\"sk-toggleable__control sk-hidden--visually\" id=\"dd179371-f869-43e6-84c0-c1dacf328fa6\" type=\"checkbox\" ><label class=\"sk-toggleable__label\" for=\"dd179371-f869-43e6-84c0-c1dacf328fa6\">MLPRegressor</label><div class=\"sk-toggleable__content\"><pre>MLPRegressor(alpha=1000, hidden_layer_sizes=30, max_iter=2500, random_state=0)</pre></div></div></div></div></div></div></div>"
      ],
      "text/plain": [
       "Pipeline(steps=[('coladderdropper',\n",
       "                 ColAdderDropper(num_top_fuel_sys=3, num_top_transmission=2)),\n",
       "                ('columntransformer',\n",
       "                 ColumnTransformer(transformers=[('simpleimputer',\n",
       "                                                  SimpleImputer(),\n",
       "                                                  ['Transmission',\n",
       "                                                   'Number Of Seats',\n",
       "                                                   'Introduction',\n",
       "                                                   'Cylinder Capacity',\n",
       "                                                   'Max Power Hp', 'Max Torque',\n",
       "                                                   'Fuel Tank', 'Top Speed',\n",
       "                                                   'Num_doors']),\n",
       "                                                 ('pipeline',\n",
       "                                                  Pipeline(steps=[('simpleimputer',\n",
       "                                                                   SimpleImputer(strategy='most_frequent')),\n",
       "                                                                  ('onehotencoder',\n",
       "                                                                   OneHotEncoder(handle_unknown='ignore'))]),\n",
       "                                                  ['Front Stabilizer', 'Drive',\n",
       "                                                   'Turbo', 'Dt_Transmission',\n",
       "                                                   'Drive System', 'Fuel',\n",
       "                                                   'Rear Stabilizer', 'Brand',\n",
       "                                                   'Fuel System',\n",
       "                                                   'Valve Actuation'])])),\n",
       "                ('standardscaler', StandardScaler(with_mean=False)),\n",
       "                ('mlpregressor',\n",
       "                 MLPRegressor(alpha=1000, hidden_layer_sizes=30, max_iter=2500,\n",
       "                              random_state=0))])"
      ]
     },
     "execution_count": 29,
     "metadata": {},
     "output_type": "execute_result"
    }
   ],
   "source": [
    "# TEST\n",
    "full_pipeline"
   ]
  },
  {
   "cell_type": "markdown",
   "metadata": {},
   "source": [
    "Cuối cùng, ta sẽ huấn luyện lại `full_pipeline` trên `X_df` và `y_sr` (tập huấn luyện + tập validation) với `best_alpha` tìm được ở trên để ra được mô hình cụ thể cuối cùng."
   ]
  },
  {
   "cell_type": "code",
   "execution_count": 30,
   "metadata": {
    "deletable": false,
    "nbgrader": {
     "cell_type": "code",
     "checksum": "e771c0641435719860146ab39be71ef8",
     "grade": true,
     "grade_id": "cell-34157b0f98b9d3f5",
     "locked": false,
     "points": 0.5,
     "schema_version": 3,
     "solution": true,
     "task": false
    }
   },
   "outputs": [
    {
     "name": "stderr",
     "output_type": "stream",
     "text": [
      "D:\\Downloads\\anaconda\\lib\\site-packages\\sklearn\\neural_network\\_multilayer_perceptron.py:582: ConvergenceWarning: Stochastic Optimizer: Maximum iterations (2500) reached and the optimization hasn't converged yet.\n",
      "  warnings.warn(\n"
     ]
    },
    {
     "data": {
      "text/html": [
       "<style>div.sk-top-container {color: black;background-color: white;}div.sk-toggleable {background-color: white;}label.sk-toggleable__label {cursor: pointer;display: block;width: 100%;margin-bottom: 0;padding: 0.2em 0.3em;box-sizing: border-box;text-align: center;}div.sk-toggleable__content {max-height: 0;max-width: 0;overflow: hidden;text-align: left;background-color: #f0f8ff;}div.sk-toggleable__content pre {margin: 0.2em;color: black;border-radius: 0.25em;background-color: #f0f8ff;}input.sk-toggleable__control:checked~div.sk-toggleable__content {max-height: 200px;max-width: 100%;overflow: auto;}div.sk-estimator input.sk-toggleable__control:checked~label.sk-toggleable__label {background-color: #d4ebff;}div.sk-label input.sk-toggleable__control:checked~label.sk-toggleable__label {background-color: #d4ebff;}input.sk-hidden--visually {border: 0;clip: rect(1px 1px 1px 1px);clip: rect(1px, 1px, 1px, 1px);height: 1px;margin: -1px;overflow: hidden;padding: 0;position: absolute;width: 1px;}div.sk-estimator {font-family: monospace;background-color: #f0f8ff;margin: 0.25em 0.25em;border: 1px dotted black;border-radius: 0.25em;box-sizing: border-box;}div.sk-estimator:hover {background-color: #d4ebff;}div.sk-parallel-item::after {content: \"\";width: 100%;border-bottom: 1px solid gray;flex-grow: 1;}div.sk-label:hover label.sk-toggleable__label {background-color: #d4ebff;}div.sk-serial::before {content: \"\";position: absolute;border-left: 1px solid gray;box-sizing: border-box;top: 2em;bottom: 0;left: 50%;}div.sk-serial {display: flex;flex-direction: column;align-items: center;background-color: white;}div.sk-item {z-index: 1;}div.sk-parallel {display: flex;align-items: stretch;justify-content: center;background-color: white;}div.sk-parallel-item {display: flex;flex-direction: column;position: relative;background-color: white;}div.sk-parallel-item:first-child::after {align-self: flex-end;width: 50%;}div.sk-parallel-item:last-child::after {align-self: flex-start;width: 50%;}div.sk-parallel-item:only-child::after {width: 0;}div.sk-dashed-wrapped {border: 1px dashed gray;margin: 0.2em;box-sizing: border-box;padding-bottom: 0.1em;background-color: white;position: relative;}div.sk-label label {font-family: monospace;font-weight: bold;background-color: white;display: inline-block;line-height: 1.2em;}div.sk-label-container {position: relative;z-index: 2;text-align: center;}div.sk-container {display: inline-block;position: relative;}</style><div class=\"sk-top-container\"><div class=\"sk-container\"><div class=\"sk-item sk-dashed-wrapped\"><div class=\"sk-label-container\"><div class=\"sk-label sk-toggleable\"><input class=\"sk-toggleable__control sk-hidden--visually\" id=\"c5a9d311-111b-4009-804a-a2b6c50e29bc\" type=\"checkbox\" ><label class=\"sk-toggleable__label\" for=\"c5a9d311-111b-4009-804a-a2b6c50e29bc\">Pipeline</label><div class=\"sk-toggleable__content\"><pre>Pipeline(steps=[('coladderdropper',\n",
       "                 ColAdderDropper(num_top_fuel_sys=3, num_top_transmission=2)),\n",
       "                ('columntransformer',\n",
       "                 ColumnTransformer(transformers=[('simpleimputer',\n",
       "                                                  SimpleImputer(),\n",
       "                                                  ['Transmission',\n",
       "                                                   'Number Of Seats',\n",
       "                                                   'Introduction',\n",
       "                                                   'Cylinder Capacity',\n",
       "                                                   'Max Power Hp', 'Max Torque',\n",
       "                                                   'Fuel Tank', 'Top Speed',\n",
       "                                                   'Num_doors']),\n",
       "                                                 ('pipeline',\n",
       "                                                  Pipeline(steps=[('simpleimputer',\n",
       "                                                                   SimpleImputer(strategy='most_frequent')),\n",
       "                                                                  ('onehotencoder',\n",
       "                                                                   OneHotEncoder(handle_unknown='ignore'))]),\n",
       "                                                  ['Front Stabilizer', 'Drive',\n",
       "                                                   'Turbo', 'Dt_Transmission',\n",
       "                                                   'Drive System', 'Fuel',\n",
       "                                                   'Rear Stabilizer', 'Brand',\n",
       "                                                   'Fuel System',\n",
       "                                                   'Valve Actuation'])])),\n",
       "                ('standardscaler', StandardScaler(with_mean=False)),\n",
       "                ('mlpregressor',\n",
       "                 MLPRegressor(alpha=1000, hidden_layer_sizes=30, max_iter=2500,\n",
       "                              random_state=0))])</pre></div></div></div><div class=\"sk-serial\"><div class=\"sk-item\"><div class=\"sk-estimator sk-toggleable\"><input class=\"sk-toggleable__control sk-hidden--visually\" id=\"832888a7-805d-4348-a411-b47c6dd18c3e\" type=\"checkbox\" ><label class=\"sk-toggleable__label\" for=\"832888a7-805d-4348-a411-b47c6dd18c3e\">ColAdderDropper</label><div class=\"sk-toggleable__content\"><pre>ColAdderDropper(num_top_fuel_sys=3, num_top_transmission=2)</pre></div></div></div><div class=\"sk-item sk-dashed-wrapped\"><div class=\"sk-label-container\"><div class=\"sk-label sk-toggleable\"><input class=\"sk-toggleable__control sk-hidden--visually\" id=\"4d11c23b-aea5-4447-8f33-84e163f21948\" type=\"checkbox\" ><label class=\"sk-toggleable__label\" for=\"4d11c23b-aea5-4447-8f33-84e163f21948\">columntransformer: ColumnTransformer</label><div class=\"sk-toggleable__content\"><pre>ColumnTransformer(transformers=[('simpleimputer', SimpleImputer(),\n",
       "                                 ['Transmission', 'Number Of Seats',\n",
       "                                  'Introduction', 'Cylinder Capacity',\n",
       "                                  'Max Power Hp', 'Max Torque', 'Fuel Tank',\n",
       "                                  'Top Speed', 'Num_doors']),\n",
       "                                ('pipeline',\n",
       "                                 Pipeline(steps=[('simpleimputer',\n",
       "                                                  SimpleImputer(strategy='most_frequent')),\n",
       "                                                 ('onehotencoder',\n",
       "                                                  OneHotEncoder(handle_unknown='ignore'))]),\n",
       "                                 ['Front Stabilizer', 'Drive', 'Turbo',\n",
       "                                  'Dt_Transmission', 'Drive System', 'Fuel',\n",
       "                                  'Rear Stabilizer', 'Brand', 'Fuel System',\n",
       "                                  'Valve Actuation'])])</pre></div></div></div><div class=\"sk-parallel\"><div class=\"sk-parallel-item\"><div class=\"sk-item\"><div class=\"sk-label-container\"><div class=\"sk-label sk-toggleable\"><input class=\"sk-toggleable__control sk-hidden--visually\" id=\"9430f841-7ddd-4e48-b5d2-7d84c6f75363\" type=\"checkbox\" ><label class=\"sk-toggleable__label\" for=\"9430f841-7ddd-4e48-b5d2-7d84c6f75363\">simpleimputer</label><div class=\"sk-toggleable__content\"><pre>['Transmission', 'Number Of Seats', 'Introduction', 'Cylinder Capacity', 'Max Power Hp', 'Max Torque', 'Fuel Tank', 'Top Speed', 'Num_doors']</pre></div></div></div><div class=\"sk-serial\"><div class=\"sk-item\"><div class=\"sk-estimator sk-toggleable\"><input class=\"sk-toggleable__control sk-hidden--visually\" id=\"4e529d39-306c-41d0-9640-771e1c0c4fa1\" type=\"checkbox\" ><label class=\"sk-toggleable__label\" for=\"4e529d39-306c-41d0-9640-771e1c0c4fa1\">SimpleImputer</label><div class=\"sk-toggleable__content\"><pre>SimpleImputer()</pre></div></div></div></div></div></div><div class=\"sk-parallel-item\"><div class=\"sk-item\"><div class=\"sk-label-container\"><div class=\"sk-label sk-toggleable\"><input class=\"sk-toggleable__control sk-hidden--visually\" id=\"febac5ce-0de8-4e8c-afd3-2294ec6d61ad\" type=\"checkbox\" ><label class=\"sk-toggleable__label\" for=\"febac5ce-0de8-4e8c-afd3-2294ec6d61ad\">pipeline</label><div class=\"sk-toggleable__content\"><pre>['Front Stabilizer', 'Drive', 'Turbo', 'Dt_Transmission', 'Drive System', 'Fuel', 'Rear Stabilizer', 'Brand', 'Fuel System', 'Valve Actuation']</pre></div></div></div><div class=\"sk-serial\"><div class=\"sk-item\"><div class=\"sk-serial\"><div class=\"sk-item\"><div class=\"sk-estimator sk-toggleable\"><input class=\"sk-toggleable__control sk-hidden--visually\" id=\"fcaedbc7-6bc6-41d5-872a-39432944d9a0\" type=\"checkbox\" ><label class=\"sk-toggleable__label\" for=\"fcaedbc7-6bc6-41d5-872a-39432944d9a0\">SimpleImputer</label><div class=\"sk-toggleable__content\"><pre>SimpleImputer(strategy='most_frequent')</pre></div></div></div><div class=\"sk-item\"><div class=\"sk-estimator sk-toggleable\"><input class=\"sk-toggleable__control sk-hidden--visually\" id=\"abca9cda-db04-4126-a63e-d5663a4616a8\" type=\"checkbox\" ><label class=\"sk-toggleable__label\" for=\"abca9cda-db04-4126-a63e-d5663a4616a8\">OneHotEncoder</label><div class=\"sk-toggleable__content\"><pre>OneHotEncoder(handle_unknown='ignore')</pre></div></div></div></div></div></div></div></div></div></div><div class=\"sk-item\"><div class=\"sk-estimator sk-toggleable\"><input class=\"sk-toggleable__control sk-hidden--visually\" id=\"a2c16497-6ae7-45cb-a5e0-23d6f64b3f65\" type=\"checkbox\" ><label class=\"sk-toggleable__label\" for=\"a2c16497-6ae7-45cb-a5e0-23d6f64b3f65\">StandardScaler</label><div class=\"sk-toggleable__content\"><pre>StandardScaler(with_mean=False)</pre></div></div></div><div class=\"sk-item\"><div class=\"sk-estimator sk-toggleable\"><input class=\"sk-toggleable__control sk-hidden--visually\" id=\"611d94a8-bdf3-47d5-9dab-78e794b51fed\" type=\"checkbox\" ><label class=\"sk-toggleable__label\" for=\"611d94a8-bdf3-47d5-9dab-78e794b51fed\">MLPRegressor</label><div class=\"sk-toggleable__content\"><pre>MLPRegressor(alpha=1000, hidden_layer_sizes=30, max_iter=2500, random_state=0)</pre></div></div></div></div></div></div></div>"
      ],
      "text/plain": [
       "Pipeline(steps=[('coladderdropper',\n",
       "                 ColAdderDropper(num_top_fuel_sys=3, num_top_transmission=2)),\n",
       "                ('columntransformer',\n",
       "                 ColumnTransformer(transformers=[('simpleimputer',\n",
       "                                                  SimpleImputer(),\n",
       "                                                  ['Transmission',\n",
       "                                                   'Number Of Seats',\n",
       "                                                   'Introduction',\n",
       "                                                   'Cylinder Capacity',\n",
       "                                                   'Max Power Hp', 'Max Torque',\n",
       "                                                   'Fuel Tank', 'Top Speed',\n",
       "                                                   'Num_doors']),\n",
       "                                                 ('pipeline',\n",
       "                                                  Pipeline(steps=[('simpleimputer',\n",
       "                                                                   SimpleImputer(strategy='most_frequent')),\n",
       "                                                                  ('onehotencoder',\n",
       "                                                                   OneHotEncoder(handle_unknown='ignore'))]),\n",
       "                                                  ['Front Stabilizer', 'Drive',\n",
       "                                                   'Turbo', 'Dt_Transmission',\n",
       "                                                   'Drive System', 'Fuel',\n",
       "                                                   'Rear Stabilizer', 'Brand',\n",
       "                                                   'Fuel System',\n",
       "                                                   'Valve Actuation'])])),\n",
       "                ('standardscaler', StandardScaler(with_mean=False)),\n",
       "                ('mlpregressor',\n",
       "                 MLPRegressor(alpha=1000, hidden_layer_sizes=30, max_iter=2500,\n",
       "                              random_state=0))])"
      ]
     },
     "execution_count": 30,
     "metadata": {},
     "output_type": "execute_result"
    }
   ],
   "source": [
    "# YOUR CODE HERE\n",
    "full_pipeline.set_params(mlpregressor__alpha=best_alpha)\n",
    "full_pipeline.fit(X_df, y_sr)"
   ]
  },
  {
   "cell_type": "markdown",
   "metadata": {
    "Collapsed": "false"
   },
   "source": [
    "### Đánh giá mô hình tìm được "
   ]
  },
  {
   "cell_type": "code",
   "execution_count": 31,
   "metadata": {
    "Collapsed": "false"
   },
   "outputs": [
    {
     "data": {
      "text/plain": [
       "85.20738675174628"
      ]
     },
     "execution_count": 31,
     "metadata": {},
     "output_type": "execute_result"
    }
   ],
   "source": [
    "full_pipeline.score(test_X_df, test_y_sr)*100"
   ]
  },
  {
   "cell_type": "code",
   "execution_count": null,
   "metadata": {},
   "outputs": [],
   "source": []
  }
 ],
 "metadata": {
  "kernelspec": {
   "display_name": "Python 3",
   "language": "python",
   "name": "python3"
  },
  "language_info": {
   "codemirror_mode": {
    "name": "ipython",
    "version": 3
   },
   "file_extension": ".py",
   "mimetype": "text/x-python",
   "name": "python",
   "nbconvert_exporter": "python",
   "pygments_lexer": "ipython3",
   "version": "3.8.3"
  },
  "toc": {
   "base_numbering": 1,
   "nav_menu": {
    "height": "153px",
    "width": "252px"
   },
   "number_sections": false,
   "sideBar": true,
   "skip_h1_title": false,
   "title_cell": "Table of Contents",
   "title_sidebar": "Contents",
   "toc_cell": false,
   "toc_position": {
    "height": "calc(100% - 180px)",
    "left": "10px",
    "top": "150px",
    "width": "250.009px"
   },
   "toc_section_display": "block",
   "toc_window_display": true
  }
 },
 "nbformat": 4,
 "nbformat_minor": 4
}
